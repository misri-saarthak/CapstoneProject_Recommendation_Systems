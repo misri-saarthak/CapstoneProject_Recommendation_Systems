{
 "cells": [
  {
   "cell_type": "markdown",
   "metadata": {},
   "source": [
    "### Importing the required libraries:"
   ]
  },
  {
   "cell_type": "code",
   "execution_count": 1,
   "metadata": {
    "collapsed": true
   },
   "outputs": [],
   "source": [
    "%matplotlib inline\n",
    "import pandas as pd\n",
    "import numpy as np\n",
    "import matplotlib.pyplot as plt\n",
    "import math"
   ]
  },
  {
   "cell_type": "markdown",
   "metadata": {},
   "source": [
    "### Reading the data files:"
   ]
  },
  {
   "cell_type": "code",
   "execution_count": 2,
   "metadata": {},
   "outputs": [
    {
     "name": "stderr",
     "output_type": "stream",
     "text": [
      "/Users/Saarthak92/anaconda3/lib/python3.6/site-packages/ipykernel_launcher.py:1: ParserWarning: Falling back to the 'python' engine because the 'c' engine does not support regex separators (separators > 1 char and different from '\\s+' are interpreted as regex); you can avoid this warning by specifying engine='python'.\n",
      "  \"\"\"Entry point for launching an IPython kernel.\n",
      "/Users/Saarthak92/anaconda3/lib/python3.6/site-packages/ipykernel_launcher.py:2: ParserWarning: Falling back to the 'python' engine because the 'c' engine does not support regex separators (separators > 1 char and different from '\\s+' are interpreted as regex); you can avoid this warning by specifying engine='python'.\n",
      "  \n",
      "/Users/Saarthak92/anaconda3/lib/python3.6/site-packages/ipykernel_launcher.py:3: ParserWarning: Falling back to the 'python' engine because the 'c' engine does not support regex separators (separators > 1 char and different from '\\s+' are interpreted as regex); you can avoid this warning by specifying engine='python'.\n",
      "  This is separate from the ipykernel package so we can avoid doing imports until\n"
     ]
    }
   ],
   "source": [
    "ratings = pd.read_table(\"/Users/Saarthak92/Desktop/ratings.dat\",sep='::',names=['user','movie','rating','time'])\n",
    "users = pd.read_table(\"/Users/Saarthak92/Desktop/users.dat\",sep='::',names=['user','gender','age','occupation','zip'])\n",
    "movies = pd.read_table(\"/Users/Saarthak92/Desktop/movies.dat\",sep='::',names=['movie','title','genre'])"
   ]
  },
  {
   "cell_type": "markdown",
   "metadata": {},
   "source": [
    "### Analyzing the individual files:"
   ]
  },
  {
   "cell_type": "markdown",
   "metadata": {},
   "source": [
    "#### Ratings:"
   ]
  },
  {
   "cell_type": "code",
   "execution_count": 3,
   "metadata": {},
   "outputs": [
    {
     "name": "stdout",
     "output_type": "stream",
     "text": [
      "<class 'pandas.core.frame.DataFrame'>\n",
      "RangeIndex: 1000209 entries, 0 to 1000208\n",
      "Data columns (total 4 columns):\n",
      "user      1000209 non-null int64\n",
      "movie     1000209 non-null int64\n",
      "rating    1000209 non-null int64\n",
      "time      1000209 non-null int64\n",
      "dtypes: int64(4)\n",
      "memory usage: 30.5 MB\n",
      "None\n"
     ]
    }
   ],
   "source": [
    "print(ratings.info())"
   ]
  },
  {
   "cell_type": "code",
   "execution_count": 4,
   "metadata": {},
   "outputs": [
    {
     "name": "stdout",
     "output_type": "stream",
     "text": [
      "   user  movie  rating       time\n",
      "0     1   1193       5  978300760\n",
      "1     1    661       3  978302109\n",
      "2     1    914       3  978301968\n",
      "3     1   3408       4  978300275\n",
      "4     1   2355       5  978824291\n"
     ]
    }
   ],
   "source": [
    "print(ratings.head())"
   ]
  },
  {
   "cell_type": "code",
   "execution_count": 5,
   "metadata": {},
   "outputs": [
    {
     "name": "stdout",
     "output_type": "stream",
     "text": [
      "         user  movie  rating       time\n",
      "1000204  6040   1091       1  956716541\n",
      "1000205  6040   1094       5  956704887\n",
      "1000206  6040    562       5  956704746\n",
      "1000207  6040   1096       4  956715648\n",
      "1000208  6040   1097       4  956715569\n"
     ]
    }
   ],
   "source": [
    "print(ratings.tail())"
   ]
  },
  {
   "cell_type": "markdown",
   "metadata": {},
   "source": [
    "The ratings dataset consists of 4 variables:\n",
    "    \n",
    "    user : userID of the person who rated the movie\n",
    "    movie : movieID of the corresponding movie that has been rated\n",
    "    rating : rating of the movie; based on 5-star rating (whole numbers only)\n",
    "    time : timestamp (in seconds) since movie has been rated\n",
    "\n",
    "Each user has rated at least 20 movies."
   ]
  },
  {
   "cell_type": "markdown",
   "metadata": {},
   "source": [
    "#### Users:"
   ]
  },
  {
   "cell_type": "code",
   "execution_count": 6,
   "metadata": {},
   "outputs": [
    {
     "name": "stdout",
     "output_type": "stream",
     "text": [
      "<class 'pandas.core.frame.DataFrame'>\n",
      "RangeIndex: 6040 entries, 0 to 6039\n",
      "Data columns (total 5 columns):\n",
      "user          6040 non-null int64\n",
      "gender        6040 non-null object\n",
      "age           6040 non-null int64\n",
      "occupation    6040 non-null int64\n",
      "zip           6040 non-null object\n",
      "dtypes: int64(3), object(2)\n",
      "memory usage: 236.0+ KB\n",
      "None\n"
     ]
    }
   ],
   "source": [
    "print(users.info())"
   ]
  },
  {
   "cell_type": "code",
   "execution_count": 7,
   "metadata": {},
   "outputs": [
    {
     "name": "stdout",
     "output_type": "stream",
     "text": [
      "   user gender  age  occupation    zip\n",
      "0     1      F    1          10  48067\n",
      "1     2      M   56          16  70072\n",
      "2     3      M   25          15  55117\n",
      "3     4      M   45           7  02460\n",
      "4     5      M   25          20  55455\n"
     ]
    }
   ],
   "source": [
    "print(users.head())"
   ]
  },
  {
   "cell_type": "code",
   "execution_count": 8,
   "metadata": {},
   "outputs": [
    {
     "name": "stdout",
     "output_type": "stream",
     "text": [
      "      user gender  age  occupation    zip\n",
      "6035  6036      F   25          15  32603\n",
      "6036  6037      F   45           1  76006\n",
      "6037  6038      F   56           1  14706\n",
      "6038  6039      F   45           0  01060\n",
      "6039  6040      M   25           6  11106\n"
     ]
    }
   ],
   "source": [
    "print(users.tail())"
   ]
  },
  {
   "cell_type": "markdown",
   "metadata": {},
   "source": [
    "The users dataset consists of 5 variables:\n",
    "    \n",
    "    user : userID of the person who rated the movie\n",
    "    gender : gender of the corresponding user (M or F)\n",
    "    zip : zipcode of corresponding user\n",
    "    age : age category of the corresponding user;       *  1:  \"Under 18\"\n",
    "                                                        * 18:  \"18-24\"\n",
    "                                                        * 25:  \"25-34\"\n",
    "                                                        * 35:  \"35-44\"\n",
    "                                                        * 45:  \"45-49\"\n",
    "                                                        * 50:  \"50-55\"\n",
    "                                                        * 56:  \"56+\"\n",
    "                                                            \n",
    "    occupation : occupation of the corresponding user;  *  0:  \"other\" or not specified\n",
    "                                                        *  1:  \"academic/educator\"\n",
    "                                                        *  2:  \"artist\"\n",
    "                                                        *  3:  \"clerical/admin\"\n",
    "                                                        *  4:  \"college/grad student\"\n",
    "                                                        *  5:  \"customer service\"\n",
    "                                                        *  6:  \"doctor/health care\"\n",
    "                                                        *  7:  \"executive/managerial\"\n",
    "                                                        *  8:  \"farmer\"\n",
    "                                                        *  9:  \"homemaker\"\n",
    "                                                        * 10:  \"K-12 student\"\n",
    "                                                        * 11:  \"lawyer\"\n",
    "                                                        * 12:  \"programmer\"\n",
    "                                                        * 13:  \"retired\"\n",
    "                                                        * 14:  \"sales/marketing\"\n",
    "                                                        * 15:  \"scientist\"\n",
    "                                                        * 16:  \"self-employed\"\n",
    "                                                        * 17:  \"technician/engineer\"\n",
    "                                                        * 18:  \"tradesman/craftsman\"\n",
    "                                                        * 19:  \"unemployed\"\n",
    "                                                        * 20:  \"writer\" \n",
    "    \n",
    "\n",
    "There are 6040 userIDs in total. Each user has rated atleast 20 movies."
   ]
  },
  {
   "cell_type": "markdown",
   "metadata": {},
   "source": [
    "#### Movies:"
   ]
  },
  {
   "cell_type": "code",
   "execution_count": 9,
   "metadata": {},
   "outputs": [
    {
     "name": "stdout",
     "output_type": "stream",
     "text": [
      "<class 'pandas.core.frame.DataFrame'>\n",
      "RangeIndex: 3883 entries, 0 to 3882\n",
      "Data columns (total 3 columns):\n",
      "movie    3883 non-null int64\n",
      "title    3883 non-null object\n",
      "genre    3883 non-null object\n",
      "dtypes: int64(1), object(2)\n",
      "memory usage: 91.1+ KB\n",
      "None\n"
     ]
    }
   ],
   "source": [
    "print(movies.info())"
   ]
  },
  {
   "cell_type": "code",
   "execution_count": 10,
   "metadata": {},
   "outputs": [
    {
     "name": "stdout",
     "output_type": "stream",
     "text": [
      "   movie                               title                         genre\n",
      "0      1                    Toy Story (1995)   Animation|Children's|Comedy\n",
      "1      2                      Jumanji (1995)  Adventure|Children's|Fantasy\n",
      "2      3             Grumpier Old Men (1995)                Comedy|Romance\n",
      "3      4            Waiting to Exhale (1995)                  Comedy|Drama\n",
      "4      5  Father of the Bride Part II (1995)                        Comedy\n"
     ]
    }
   ],
   "source": [
    "print(movies.head())"
   ]
  },
  {
   "cell_type": "code",
   "execution_count": 11,
   "metadata": {},
   "outputs": [
    {
     "name": "stdout",
     "output_type": "stream",
     "text": [
      "      movie                       title           genre\n",
      "3878   3948     Meet the Parents (2000)          Comedy\n",
      "3879   3949  Requiem for a Dream (2000)           Drama\n",
      "3880   3950            Tigerland (2000)           Drama\n",
      "3881   3951     Two Family House (2000)           Drama\n",
      "3882   3952       Contender, The (2000)  Drama|Thriller\n"
     ]
    }
   ],
   "source": [
    "print(movies.tail())"
   ]
  },
  {
   "cell_type": "markdown",
   "metadata": {},
   "source": [
    "The movies dataset consists of 3 variables:\n",
    "    \n",
    "    movie : movieID of the movie that has been rated\n",
    "    title : actual name of the movie\n",
    "    genre : genre of the movie. A movie may fall under multiple genres.\n",
    "\n",
    "There are 3883 movies in total.\n",
    "\n",
    "Some MovieIDs do not correspond to a movie due to accidental duplicate entries and/or test entries.\n",
    "\n",
    "In order to overcome these short comings, we merge the 3 data sets."
   ]
  },
  {
   "cell_type": "markdown",
   "metadata": {},
   "source": [
    "### Merging the files to create the data set: movielens"
   ]
  },
  {
   "cell_type": "code",
   "execution_count": 12,
   "metadata": {
    "collapsed": true
   },
   "outputs": [],
   "source": [
    "movielens = pd.merge(pd.merge(ratings,users),movies)\n",
    "movielens = movielens.drop_duplicates()"
   ]
  },
  {
   "cell_type": "code",
   "execution_count": 13,
   "metadata": {},
   "outputs": [
    {
     "data": {
      "text/plain": [
       "(1000209, 10)"
      ]
     },
     "execution_count": 13,
     "metadata": {},
     "output_type": "execute_result"
    }
   ],
   "source": [
    "movielens.shape"
   ]
  },
  {
   "cell_type": "code",
   "execution_count": 14,
   "metadata": {},
   "outputs": [
    {
     "name": "stdout",
     "output_type": "stream",
     "text": [
      "   user  movie  rating       time gender  age  occupation    zip  \\\n",
      "0     1   1193       5  978300760      F    1          10  48067   \n",
      "1     2   1193       5  978298413      M   56          16  70072   \n",
      "2    12   1193       4  978220179      M   25          12  32793   \n",
      "3    15   1193       4  978199279      M   25           7  22903   \n",
      "4    17   1193       5  978158471      M   50           1  95350   \n",
      "\n",
      "                                    title  genre  \n",
      "0  One Flew Over the Cuckoo's Nest (1975)  Drama  \n",
      "1  One Flew Over the Cuckoo's Nest (1975)  Drama  \n",
      "2  One Flew Over the Cuckoo's Nest (1975)  Drama  \n",
      "3  One Flew Over the Cuckoo's Nest (1975)  Drama  \n",
      "4  One Flew Over the Cuckoo's Nest (1975)  Drama  \n"
     ]
    }
   ],
   "source": [
    "print(movielens.head())"
   ]
  },
  {
   "cell_type": "markdown",
   "metadata": {},
   "source": [
    "##### Separating the TITLE into NAME and YEAR"
   ]
  },
  {
   "cell_type": "code",
   "execution_count": 15,
   "metadata": {
    "collapsed": true
   },
   "outputs": [],
   "source": [
    "movielens[\"name\"] = movielens.title.str.split('(').str.get(0)"
   ]
  },
  {
   "cell_type": "code",
   "execution_count": 16,
   "metadata": {
    "collapsed": true
   },
   "outputs": [],
   "source": [
    "movielens[\"year\"] = movielens.title.str.split('(').str.get(1)\n",
    "movielens[\"year\"] = movielens.year.str.split(')').str.get(0)"
   ]
  },
  {
   "cell_type": "markdown",
   "metadata": {},
   "source": [
    "##### Dropping redundant columns"
   ]
  },
  {
   "cell_type": "code",
   "execution_count": 17,
   "metadata": {
    "collapsed": true
   },
   "outputs": [],
   "source": [
    "movielens = movielens.drop(['time','title'], axis=1)"
   ]
  },
  {
   "cell_type": "markdown",
   "metadata": {},
   "source": [
    "##### Overview of the final data set"
   ]
  },
  {
   "cell_type": "code",
   "execution_count": 18,
   "metadata": {},
   "outputs": [
    {
     "data": {
      "text/html": [
       "<div>\n",
       "<style>\n",
       "    .dataframe thead tr:only-child th {\n",
       "        text-align: right;\n",
       "    }\n",
       "\n",
       "    .dataframe thead th {\n",
       "        text-align: left;\n",
       "    }\n",
       "\n",
       "    .dataframe tbody tr th {\n",
       "        vertical-align: top;\n",
       "    }\n",
       "</style>\n",
       "<table border=\"1\" class=\"dataframe\">\n",
       "  <thead>\n",
       "    <tr style=\"text-align: right;\">\n",
       "      <th></th>\n",
       "      <th>user</th>\n",
       "      <th>movie</th>\n",
       "      <th>rating</th>\n",
       "      <th>gender</th>\n",
       "      <th>age</th>\n",
       "      <th>occupation</th>\n",
       "      <th>zip</th>\n",
       "      <th>genre</th>\n",
       "      <th>name</th>\n",
       "      <th>year</th>\n",
       "    </tr>\n",
       "  </thead>\n",
       "  <tbody>\n",
       "    <tr>\n",
       "      <th>0</th>\n",
       "      <td>1</td>\n",
       "      <td>1193</td>\n",
       "      <td>5</td>\n",
       "      <td>F</td>\n",
       "      <td>1</td>\n",
       "      <td>10</td>\n",
       "      <td>48067</td>\n",
       "      <td>Drama</td>\n",
       "      <td>One Flew Over the Cuckoo's Nest</td>\n",
       "      <td>1975</td>\n",
       "    </tr>\n",
       "    <tr>\n",
       "      <th>1</th>\n",
       "      <td>2</td>\n",
       "      <td>1193</td>\n",
       "      <td>5</td>\n",
       "      <td>M</td>\n",
       "      <td>56</td>\n",
       "      <td>16</td>\n",
       "      <td>70072</td>\n",
       "      <td>Drama</td>\n",
       "      <td>One Flew Over the Cuckoo's Nest</td>\n",
       "      <td>1975</td>\n",
       "    </tr>\n",
       "    <tr>\n",
       "      <th>2</th>\n",
       "      <td>12</td>\n",
       "      <td>1193</td>\n",
       "      <td>4</td>\n",
       "      <td>M</td>\n",
       "      <td>25</td>\n",
       "      <td>12</td>\n",
       "      <td>32793</td>\n",
       "      <td>Drama</td>\n",
       "      <td>One Flew Over the Cuckoo's Nest</td>\n",
       "      <td>1975</td>\n",
       "    </tr>\n",
       "    <tr>\n",
       "      <th>3</th>\n",
       "      <td>15</td>\n",
       "      <td>1193</td>\n",
       "      <td>4</td>\n",
       "      <td>M</td>\n",
       "      <td>25</td>\n",
       "      <td>7</td>\n",
       "      <td>22903</td>\n",
       "      <td>Drama</td>\n",
       "      <td>One Flew Over the Cuckoo's Nest</td>\n",
       "      <td>1975</td>\n",
       "    </tr>\n",
       "    <tr>\n",
       "      <th>4</th>\n",
       "      <td>17</td>\n",
       "      <td>1193</td>\n",
       "      <td>5</td>\n",
       "      <td>M</td>\n",
       "      <td>50</td>\n",
       "      <td>1</td>\n",
       "      <td>95350</td>\n",
       "      <td>Drama</td>\n",
       "      <td>One Flew Over the Cuckoo's Nest</td>\n",
       "      <td>1975</td>\n",
       "    </tr>\n",
       "  </tbody>\n",
       "</table>\n",
       "</div>"
      ],
      "text/plain": [
       "   user  movie  rating gender  age  occupation    zip  genre  \\\n",
       "0     1   1193       5      F    1          10  48067  Drama   \n",
       "1     2   1193       5      M   56          16  70072  Drama   \n",
       "2    12   1193       4      M   25          12  32793  Drama   \n",
       "3    15   1193       4      M   25           7  22903  Drama   \n",
       "4    17   1193       5      M   50           1  95350  Drama   \n",
       "\n",
       "                               name  year  \n",
       "0  One Flew Over the Cuckoo's Nest   1975  \n",
       "1  One Flew Over the Cuckoo's Nest   1975  \n",
       "2  One Flew Over the Cuckoo's Nest   1975  \n",
       "3  One Flew Over the Cuckoo's Nest   1975  \n",
       "4  One Flew Over the Cuckoo's Nest   1975  "
      ]
     },
     "execution_count": 18,
     "metadata": {},
     "output_type": "execute_result"
    }
   ],
   "source": [
    "movielens.head()"
   ]
  },
  {
   "cell_type": "markdown",
   "metadata": {},
   "source": [
    "### Data Wrangling and Exploratory Data Analysis:"
   ]
  },
  {
   "cell_type": "markdown",
   "metadata": {},
   "source": [
    "##### What does the distribution of ratings look like?"
   ]
  },
  {
   "cell_type": "code",
   "execution_count": 19,
   "metadata": {},
   "outputs": [
    {
     "name": "stdout",
     "output_type": "stream",
     "text": [
      "count    1.000209e+06\n",
      "mean     3.581564e+00\n",
      "std      1.117102e+00\n",
      "min      1.000000e+00\n",
      "25%      3.000000e+00\n",
      "50%      4.000000e+00\n",
      "75%      4.000000e+00\n",
      "max      5.000000e+00\n",
      "Name: rating, dtype: float64\n"
     ]
    }
   ],
   "source": [
    "print(movielens['rating'].describe())"
   ]
  },
  {
   "cell_type": "markdown",
   "metadata": {},
   "source": [
    "##### Analyzing the ratings distribution"
   ]
  },
  {
   "cell_type": "code",
   "execution_count": 20,
   "metadata": {},
   "outputs": [
    {
     "data": {
      "text/plain": [
       "<matplotlib.text.Text at 0x137dd9550>"
      ]
     },
     "execution_count": 20,
     "metadata": {},
     "output_type": "execute_result"
    },
    {
     "data": {
      "image/png": "[encoded data removed]",
      "text/plain": [
       "<matplotlib.figure.Figure at 0x137ded0f0>"
      ]
     },
     "metadata": {},
     "output_type": "display_data"
    }
   ],
   "source": [
    "movielens.rating.plot.hist(bins=5, color=\"deepskyblue\", figsize=(10,5))\n",
    "plt.title(\"Distribution of users' ratings\")\n",
    "plt.ylabel('Number of users')\n",
    "plt.xlabel('Ratings')"
   ]
  },
  {
   "cell_type": "markdown",
   "metadata": {},
   "source": [
    "##### What are the top 100 movies with highest number of reviews?"
   ]
  },
  {
   "cell_type": "code",
   "execution_count": 22,
   "metadata": {
    "collapsed": true
   },
   "outputs": [],
   "source": [
    "top100_most_rated = movielens.groupby('name').size().sort_values(ascending=False)[:100]"
   ]
  },
  {
   "cell_type": "markdown",
   "metadata": {},
   "source": [
    "##### Top 10 on this list:"
   ]
  },
  {
   "cell_type": "code",
   "execution_count": 23,
   "metadata": {},
   "outputs": [
    {
     "name": "stdout",
     "output_type": "stream",
     "text": [
      "name\n",
      "American Beauty                                    3428\n",
      "Star Wars: Episode IV - A New Hope                 2991\n",
      "Star Wars: Episode V - The Empire Strikes Back     2990\n",
      "Star Wars: Episode VI - Return of the Jedi         2883\n",
      "Jurassic Park                                      2672\n",
      "Saving Private Ryan                                2653\n",
      "Terminator 2: Judgment Day                         2649\n",
      "Matrix, The                                        2590\n",
      "Back to the Future                                 2583\n",
      "Silence of the Lambs, The                          2578\n",
      "dtype: int64\n"
     ]
    }
   ],
   "source": [
    "print(top100_most_rated.head(10))"
   ]
  },
  {
   "cell_type": "markdown",
   "metadata": {},
   "source": [
    "##### Bottom 10 on this list:"
   ]
  },
  {
   "cell_type": "code",
   "execution_count": 24,
   "metadata": {},
   "outputs": [
    {
     "name": "stdout",
     "output_type": "stream",
     "text": [
      "name\n",
      "High Fidelity                                                            1373\n",
      "There's Something About Mary                                             1371\n",
      "Thomas Crown Affair, The                                                 1369\n",
      "Dr. Strangelove or: How I Learned to Stop Worrying and Love the Bomb     1367\n",
      "Arachnophobia                                                            1367\n",
      "Clueless                                                                 1362\n",
      "Get Shorty                                                               1356\n",
      "Jerry Maguire                                                            1353\n",
      "Christmas Story, A                                                       1352\n",
      "Aladdin                                                                  1351\n",
      "dtype: int64\n"
     ]
    }
   ],
   "source": [
    "print(top100_most_rated.tail(10))"
   ]
  },
  {
   "cell_type": "markdown",
   "metadata": {},
   "source": [
    "##### What are the 100 movies with the least number of reviews?"
   ]
  },
  {
   "cell_type": "code",
   "execution_count": 25,
   "metadata": {
    "collapsed": true
   },
   "outputs": [],
   "source": [
    "top100_least_rated = movielens.groupby('name').size().sort_values(ascending=True)[:100]"
   ]
  },
  {
   "cell_type": "markdown",
   "metadata": {},
   "source": [
    "##### Top 10 on this list:"
   ]
  },
  {
   "cell_type": "code",
   "execution_count": 26,
   "metadata": {},
   "outputs": [
    {
     "name": "stdout",
     "output_type": "stream",
     "text": [
      "name\n",
      "White Boys                    1\n",
      "For Ever Mozart               1\n",
      "Even Dwarfs Started Small     1\n",
      "Foolish                       1\n",
      "M�nage                        1\n",
      "Death in Brunswick            1\n",
      "Relative Fear                 1\n",
      "Follow the Bitch              1\n",
      "Chain of Fools                1\n",
      "Uninvited Guest, An           1\n",
      "dtype: int64\n"
     ]
    }
   ],
   "source": [
    "print(top100_least_rated.head(10))"
   ]
  },
  {
   "cell_type": "markdown",
   "metadata": {},
   "source": [
    "##### Bottom 10 on this list:"
   ]
  },
  {
   "cell_type": "code",
   "execution_count": 27,
   "metadata": {},
   "outputs": [
    {
     "name": "stdout",
     "output_type": "stream",
     "text": [
      "name\n",
      "Hippie Revolution, The      1\n",
      "Wooden Man's Bride, The     1\n",
      "Project Moon Base           1\n",
      "Ulysses                     1\n",
      "Open Season                 1\n",
      "Trois                       1\n",
      "Fausto                      1\n",
      "Low Life, The               1\n",
      "Condition Red               1\n",
      "Boy Called Hate, A          1\n",
      "dtype: int64\n"
     ]
    }
   ],
   "source": [
    "print(top100_least_rated.tail(10))"
   ]
  },
  {
   "cell_type": "markdown",
   "metadata": {},
   "source": [
    "We observe that there are at least a 100 movies which have been reviewed only once. Such few reviews \n",
    "would make it difficult to recommend these movies. We may exclude such values moving forward."
   ]
  },
  {
   "cell_type": "markdown",
   "metadata": {},
   "source": [
    "##### Which users have rated the most movies?"
   ]
  },
  {
   "cell_type": "code",
   "execution_count": 28,
   "metadata": {
    "collapsed": true
   },
   "outputs": [],
   "source": [
    "movie_data = movielens[['user','rating']]\n",
    "ratings_by_user = movie_data.groupby('user').agg([np.size,np.mean])"
   ]
  },
  {
   "cell_type": "code",
   "execution_count": 29,
   "metadata": {},
   "outputs": [
    {
     "data": {
      "text/plain": [
       "<matplotlib.text.Text at 0x1339fa2e8>"
      ]
     },
     "execution_count": 29,
     "metadata": {},
     "output_type": "execute_result"
    },
    {
     "data": {
      "image/png": "[encoded data removed]",
      "text/plain": [
       "<matplotlib.figure.Figure at 0x133a46240>"
      ]
     },
     "metadata": {},
     "output_type": "display_data"
    }
   ],
   "source": [
    "ratings_by_user['rating']['size'].head(40).sort_values(ascending=False).plot(kind=\"bar\", color=\"red\", figsize=(10,5))\n",
    "plt.xlabel(\"User ID\")\n",
    "plt.ylabel(\"Number of reviews\")\n",
    "plt.title(\"Number of reviews vs User ID\")"
   ]
  },
  {
   "cell_type": "markdown",
   "metadata": {},
   "source": [
    "We observe that only 31 userIDs have rated more than 50 movies. Beyond userID 3, all the remaining users have rated between 20 to 50 movies."
   ]
  },
  {
   "cell_type": "markdown",
   "metadata": {},
   "source": [
    "##### Movie ratings based on gender"
   ]
  },
  {
   "cell_type": "code",
   "execution_count": 30,
   "metadata": {
    "collapsed": true
   },
   "outputs": [],
   "source": [
    "movie_data2 = movielens[['gender','rating']]\n",
    "ratings_by_gender = movie_data2.groupby('gender').agg([np.size,np.mean])"
   ]
  },
  {
   "cell_type": "markdown",
   "metadata": {},
   "source": [
    "##### Based on number of reviews"
   ]
  },
  {
   "cell_type": "code",
   "execution_count": 31,
   "metadata": {},
   "outputs": [
    {
     "data": {
      "text/plain": [
       "<matplotlib.text.Text at 0x1334d7710>"
      ]
     },
     "execution_count": 31,
     "metadata": {},
     "output_type": "execute_result"
    },
    {
     "data": {
      "image/png": "[encoded data removed]",
      "text/plain": [
       "<matplotlib.figure.Figure at 0x13365bf98>"
      ]
     },
     "metadata": {},
     "output_type": "display_data"
    }
   ],
   "source": [
    "ratings_by_gender['rating']['size'].plot(kind=\"bar\", color=\"limegreen\", figsize=(10,5))\n",
    "plt.xlabel(\"Gender\")\n",
    "plt.ylabel(\"Number of reviews\")\n",
    "plt.title(\"Number of reviews vs Gender\")"
   ]
  },
  {
   "cell_type": "markdown",
   "metadata": {},
   "source": [
    "We observe that a vast majority of the reviewers (roughly 70%) are men."
   ]
  },
  {
   "cell_type": "markdown",
   "metadata": {},
   "source": [
    "##### Based on average rating"
   ]
  },
  {
   "cell_type": "code",
   "execution_count": 32,
   "metadata": {},
   "outputs": [
    {
     "data": {
      "text/plain": [
       "<matplotlib.text.Text at 0x133142908>"
      ]
     },
     "execution_count": 32,
     "metadata": {},
     "output_type": "execute_result"
    },
    {
     "data": {
      "image/png": "[encoded data removed]",
      "text/plain": [
       "<matplotlib.figure.Figure at 0x13327ba20>"
      ]
     },
     "metadata": {},
     "output_type": "display_data"
    }
   ],
   "source": [
    "ratings_by_gender['rating']['mean'].plot(kind=\"barh\", color=\"slateblue\", figsize=(10,5))\n",
    "plt.xlabel(\"Average rating of all movies viewed\")\n",
    "plt.ylabel(\"Gender\")\n",
    "plt.xlim(0,5)\n",
    "plt.title(\"Gender vs Average ratings\")"
   ]
  },
  {
   "cell_type": "markdown",
   "metadata": {},
   "source": [
    "There does not appear to be any bias in terms of averaging ratings for movies, based on the gender of the viewer."
   ]
  },
  {
   "cell_type": "markdown",
   "metadata": {},
   "source": [
    "##### Movie ratings based on occupation of user"
   ]
  },
  {
   "cell_type": "code",
   "execution_count": 33,
   "metadata": {
    "collapsed": true
   },
   "outputs": [],
   "source": [
    "movie_data3 = movielens[['occupation','rating']]\n",
    "ratings_by_occupation = movie_data3.groupby('occupation').agg([np.size,np.mean])"
   ]
  },
  {
   "cell_type": "markdown",
   "metadata": {},
   "source": [
    "##### Based on number of reviews"
   ]
  },
  {
   "cell_type": "code",
   "execution_count": 34,
   "metadata": {},
   "outputs": [
    {
     "data": {
      "text/plain": [
       "<matplotlib.text.Text at 0x132cb3630>"
      ]
     },
     "execution_count": 34,
     "metadata": {},
     "output_type": "execute_result"
    },
    {
     "data": {
      "image/png": "[encoded data removed]",
      "text/plain": [
       "<matplotlib.figure.Figure at 0x13309bf28>"
      ]
     },
     "metadata": {},
     "output_type": "display_data"
    }
   ],
   "source": [
    "ratings_by_occupation['rating']['size'].sort_values(ascending=False).plot(kind=\"bar\", color=\"limegreen\", figsize=(10,5))\n",
    "plt.xlabel(\"Occupation\")\n",
    "plt.ylabel(\"Number of reviews\")\n",
    "plt.title(\"Number of reviews vs User Occupation\")"
   ]
  },
  {
   "cell_type": "code",
   "execution_count": 35,
   "metadata": {},
   "outputs": [
    {
     "data": {
      "text/plain": [
       "occupation\n",
       "4    131032\n",
       "0    130499\n",
       "7    105425\n",
       "Name: size, dtype: int64"
      ]
     },
     "execution_count": 35,
     "metadata": {},
     "output_type": "execute_result"
    }
   ],
   "source": [
    "ratings_by_occupation['rating']['size'].sort_values(ascending=False).head(3)"
   ]
  },
  {
   "cell_type": "code",
   "execution_count": 36,
   "metadata": {},
   "outputs": [
    {
     "data": {
      "text/plain": [
       "occupation\n",
       "18    12086\n",
       "9     11345\n",
       "8      2706\n",
       "Name: size, dtype: int64"
      ]
     },
     "execution_count": 36,
     "metadata": {},
     "output_type": "execute_result"
    }
   ],
   "source": [
    "ratings_by_occupation['rating']['size'].sort_values(ascending=False).tail(3)"
   ]
  },
  {
   "cell_type": "markdown",
   "metadata": {},
   "source": [
    "We observe that:\n",
    "- roughly 13% of reviews are from college/grad students (Group 4)\n",
    "- roughly 10% of the reviews are from users who serve in executive/managerial positions (Group 7).\n",
    "- another major chunk of the reviews (nearly 13%) are from people who have not specified their \n",
    "  occupation (Group 0).\n",
    "- the occupations responsible for the least number of reviews are farmers (Group 8), homemakers (Group 9),\n",
    "  traders (Group 18), retired individuals (Group 13) and unemployed individuals (Group 19)."
   ]
  },
  {
   "cell_type": "markdown",
   "metadata": {},
   "source": [
    "##### Based on average rating"
   ]
  },
  {
   "cell_type": "code",
   "execution_count": 37,
   "metadata": {},
   "outputs": [
    {
     "data": {
      "text/plain": [
       "<matplotlib.text.Text at 0x132781cf8>"
      ]
     },
     "execution_count": 37,
     "metadata": {},
     "output_type": "execute_result"
    },
    {
     "data": {
      "image/png": "[encoded data removed]",
      "text/plain": [
       "<matplotlib.figure.Figure at 0x132971e48>"
      ]
     },
     "metadata": {},
     "output_type": "display_data"
    }
   ],
   "source": [
    "ratings_by_occupation['rating']['mean'].plot(kind=\"barh\", color=\"darkslateblue\", figsize=(10,5) )\n",
    "plt.xlabel(\"Average rating of all movies viewed\")\n",
    "plt.ylabel(\"Occupation\")\n",
    "plt.xlim(0,5)\n",
    "plt.title(\"Occupation vs Average ratings\")"
   ]
  },
  {
   "cell_type": "code",
   "execution_count": 38,
   "metadata": {},
   "outputs": [
    {
     "data": {
      "text/plain": [
       "occupation\n",
       "13    3.781736\n",
       "15    3.689774\n",
       "6     3.661578\n",
       "Name: mean, dtype: float64"
      ]
     },
     "execution_count": 38,
     "metadata": {},
     "output_type": "execute_result"
    }
   ],
   "source": [
    "ratings_by_occupation['rating']['mean'].sort_values(ascending=False).head(3)"
   ]
  },
  {
   "cell_type": "code",
   "execution_count": 39,
   "metadata": {},
   "outputs": [
    {
     "data": {
      "text/plain": [
       "occupation\n",
       "20    3.497392\n",
       "8     3.466741\n",
       "19    3.414050\n",
       "Name: mean, dtype: float64"
      ]
     },
     "execution_count": 39,
     "metadata": {},
     "output_type": "execute_result"
    }
   ],
   "source": [
    "ratings_by_occupation['rating']['mean'].sort_values(ascending=False).tail(3)"
   ]
  },
  {
   "cell_type": "markdown",
   "metadata": {},
   "source": [
    "We observe that:\n",
    "    - retired individuals (Group 13) have the highest average ratings for all movies viewed.\n",
    "    - unemployed individuals (Group 19) have the lowest average ratings for all movies viewed.\n",
    "    - writers (Group 20), farmers (Group 8) and unemployed individuals seem most critical in rating movies."
   ]
  },
  {
   "cell_type": "markdown",
   "metadata": {},
   "source": [
    "##### What are the 10 highest rated movies of all time?"
   ]
  },
  {
   "cell_type": "code",
   "execution_count": 41,
   "metadata": {
    "collapsed": true
   },
   "outputs": [],
   "source": [
    "highest_rated_movies = movielens.groupby('name').agg({'rating': [np.size, np.mean]})"
   ]
  },
  {
   "cell_type": "code",
   "execution_count": 42,
   "metadata": {},
   "outputs": [
    {
     "name": "stdout",
     "output_type": "stream",
     "text": [
      "                             rating     \n",
      "                               size mean\n",
      "name                                    \n",
      "Schlafes Bruder                   1  5.0\n",
      "Smashing Time                     2  5.0\n",
      "Gate of Heavenly Peace, The       3  5.0\n",
      "Follow the Bitch                  1  5.0\n",
      "Song of Freedom                   1  5.0\n",
      "Baby, The                         1  5.0\n",
      "Lured                             1  5.0\n",
      "One Little Indian                 1  5.0\n",
      "Bittersweet Motel                 1  5.0\n",
      "Ulysses                           1  5.0\n"
     ]
    }
   ],
   "source": [
    "print(highest_rated_movies.sort_values([('rating', 'mean')], ascending=False).head(10))"
   ]
  },
  {
   "cell_type": "markdown",
   "metadata": {},
   "source": [
    "We observe that a lot of movies with very high ratings, have limited number of reviews.This does not give us a good\n",
    "indication of how good a movie really is. Essentially, these results may be biased. In order to reduce this bias, we \n",
    "consider movies that have atleast 150 reviews."
   ]
  },
  {
   "cell_type": "code",
   "execution_count": 43,
   "metadata": {
    "collapsed": true
   },
   "outputs": [],
   "source": [
    "atleast_150_reviews = highest_rated_movies['rating']['size'] >= 150"
   ]
  },
  {
   "cell_type": "markdown",
   "metadata": {},
   "source": [
    "##### Highest rated movies with atleast 150 reviews:"
   ]
  },
  {
   "cell_type": "code",
   "execution_count": 44,
   "metadata": {},
   "outputs": [
    {
     "name": "stdout",
     "output_type": "stream",
     "text": [
      "                           rating          \n",
      "                             size      mean\n",
      "name                                       \n",
      "Seven Samurai                 628  4.560510\n",
      "Shawshank Redemption, The    2227  4.554558\n",
      "Godfather, The               2223  4.524966\n",
      "Close Shave, A                657  4.520548\n",
      "Usual Suspects, The          1783  4.517106\n",
      "Schindler's List             2304  4.510417\n",
      "Wrong Trousers, The           882  4.507937\n",
      "Sunset Blvd.                  470  4.491489\n",
      "Raiders of the Lost Ark      2514  4.477725\n",
      "Rear Window                  1050  4.476190\n"
     ]
    }
   ],
   "source": [
    "print(highest_rated_movies[atleast_150_reviews].sort_values([('rating', 'mean')], ascending=False)[:10])"
   ]
  },
  {
   "cell_type": "markdown",
   "metadata": {},
   "source": [
    "This list seems far more reasonable. Infact, these rankings are fairly close to popular websites such \n",
    "as imdb and rotten tomatoes."
   ]
  },
  {
   "cell_type": "markdown",
   "metadata": {},
   "source": [
    "##### What are the 10 lowest rated movies (having at least 150 reviews) ?"
   ]
  },
  {
   "cell_type": "code",
   "execution_count": 45,
   "metadata": {},
   "outputs": [
    {
     "name": "stdout",
     "output_type": "stream",
     "text": [
      "                                           rating          \n",
      "                                             size      mean\n",
      "name                                                       \n",
      "Battlefield Earth                             342  1.611111\n",
      "Baby Geniuses                                 164  1.701220\n",
      "Police Academy 5: Assignment: Miami Beach     150  1.766667\n",
      "Stop! Or My Mom Will Shoot                    179  1.782123\n",
      "Jaws 3-D                                      210  1.852381\n",
      "Speed 2: Cruise Control                       367  1.871935\n",
      "Spice World                                   190  1.873684\n",
      "Super Mario Bros.                             350  1.874286\n",
      "Home Alone 3                                  154  1.876623\n",
      "Superman IV: The Quest for Peace              332  1.888554\n"
     ]
    }
   ],
   "source": [
    "print(highest_rated_movies[atleast_150_reviews].sort_values([('rating', 'mean')], ascending=True)[:10])"
   ]
  },
  {
   "cell_type": "markdown",
   "metadata": {},
   "source": [
    "##### How are the movies rated, based on the age of the viewer?"
   ]
  },
  {
   "cell_type": "markdown",
   "metadata": {},
   "source": [
    "The existing age variable is numeric and does not offer an explicit meaning. We modify the variables as follows:"
   ]
  },
  {
   "cell_type": "code",
   "execution_count": 46,
   "metadata": {
    "collapsed": true
   },
   "outputs": [],
   "source": [
    "movielens['age'].replace([1,18,25,35,45,50,56],[\"U-18\",\"18-24\",\"25-34\",\"35-44\",\"45-49\",\"50-55\",\"56+\"],inplace=True)"
   ]
  },
  {
   "cell_type": "code",
   "execution_count": 47,
   "metadata": {},
   "outputs": [
    {
     "name": "stdout",
     "output_type": "stream",
     "text": [
      "<class 'pandas.core.frame.DataFrame'>\n",
      "Int64Index: 1000209 entries, 0 to 1000208\n",
      "Data columns (total 10 columns):\n",
      "user          1000209 non-null int64\n",
      "movie         1000209 non-null int64\n",
      "rating        1000209 non-null int64\n",
      "gender        1000209 non-null object\n",
      "age           1000209 non-null object\n",
      "occupation    1000209 non-null int64\n",
      "zip           1000209 non-null object\n",
      "genre         1000209 non-null object\n",
      "name          1000209 non-null object\n",
      "year          1000209 non-null object\n",
      "dtypes: int64(4), object(6)\n",
      "memory usage: 123.9+ MB\n"
     ]
    }
   ],
   "source": [
    "movielens.info()"
   ]
  },
  {
   "cell_type": "markdown",
   "metadata": {},
   "source": [
    "##### Average rating based on age category, for all movies:"
   ]
  },
  {
   "cell_type": "code",
   "execution_count": 49,
   "metadata": {},
   "outputs": [
    {
     "name": "stdout",
     "output_type": "stream",
     "text": [
      "       rating          \n",
      "         size      mean\n",
      "age                    \n",
      "18-24  183536  3.507573\n",
      "25-34  395556  3.545235\n",
      "35-44  199003  3.618162\n",
      "45-49   83633  3.638062\n",
      "50-55   72490  3.714512\n",
      "56+     38780  3.766632\n",
      "U-18    27211  3.549520\n"
     ]
    }
   ],
   "source": [
    "print(movielens.groupby('age').agg({'rating': [np.size, np.mean]}))"
   ]
  },
  {
   "cell_type": "markdown",
   "metadata": {},
   "source": [
    "We observe that, on average, the users belonging to lower age groups appear to be more critical in rating movies."
   ]
  },
  {
   "cell_type": "markdown",
   "metadata": {},
   "source": [
    "##### Average rating based on age category, for the top 100 most rated movies"
   ]
  },
  {
   "cell_type": "code",
   "execution_count": 50,
   "metadata": {
    "collapsed": true
   },
   "outputs": [],
   "source": [
    "top100_most_rated = movielens.groupby('movie').size().sort_values(ascending=False)[:100]"
   ]
  },
  {
   "cell_type": "code",
   "execution_count": 51,
   "metadata": {
    "collapsed": true
   },
   "outputs": [],
   "source": [
    "movielens.set_index('movie', inplace=True)"
   ]
  },
  {
   "cell_type": "code",
   "execution_count": 53,
   "metadata": {
    "collapsed": true
   },
   "outputs": [],
   "source": [
    "ratings_by_age = movielens.loc[top100_most_rated.index].groupby(['name', 'age'])"
   ]
  },
  {
   "cell_type": "markdown",
   "metadata": {},
   "source": [
    "##### Displaying the ratings by age for the first 10 entries:"
   ]
  },
  {
   "cell_type": "code",
   "execution_count": 54,
   "metadata": {},
   "outputs": [
    {
     "data": {
      "text/html": [
       "<div>\n",
       "<style>\n",
       "    .dataframe thead tr:only-child th {\n",
       "        text-align: right;\n",
       "    }\n",
       "\n",
       "    .dataframe thead th {\n",
       "        text-align: left;\n",
       "    }\n",
       "\n",
       "    .dataframe tbody tr th {\n",
       "        vertical-align: top;\n",
       "    }\n",
       "</style>\n",
       "<table border=\"1\" class=\"dataframe\">\n",
       "  <thead>\n",
       "    <tr style=\"text-align: right;\">\n",
       "      <th>age</th>\n",
       "      <th>18-24</th>\n",
       "      <th>25-34</th>\n",
       "      <th>35-44</th>\n",
       "      <th>45-49</th>\n",
       "      <th>50-55</th>\n",
       "      <th>56+</th>\n",
       "      <th>U-18</th>\n",
       "    </tr>\n",
       "    <tr>\n",
       "      <th>name</th>\n",
       "      <th></th>\n",
       "      <th></th>\n",
       "      <th></th>\n",
       "      <th></th>\n",
       "      <th></th>\n",
       "      <th></th>\n",
       "      <th></th>\n",
       "    </tr>\n",
       "  </thead>\n",
       "  <tbody>\n",
       "    <tr>\n",
       "      <th>2001: A Space Odyssey</th>\n",
       "      <td>3.923404</td>\n",
       "      <td>4.024712</td>\n",
       "      <td>4.080940</td>\n",
       "      <td>4.168478</td>\n",
       "      <td>4.241379</td>\n",
       "      <td>4.118280</td>\n",
       "      <td>4.150000</td>\n",
       "    </tr>\n",
       "    <tr>\n",
       "      <th>Abyss, The</th>\n",
       "      <td>3.893939</td>\n",
       "      <td>3.614509</td>\n",
       "      <td>3.686217</td>\n",
       "      <td>3.683099</td>\n",
       "      <td>3.513514</td>\n",
       "      <td>3.509091</td>\n",
       "      <td>3.909091</td>\n",
       "    </tr>\n",
       "    <tr>\n",
       "      <th>Airplane!</th>\n",
       "      <td>4.076667</td>\n",
       "      <td>4.002821</td>\n",
       "      <td>3.893805</td>\n",
       "      <td>3.931973</td>\n",
       "      <td>4.008696</td>\n",
       "      <td>3.731707</td>\n",
       "      <td>3.794872</td>\n",
       "    </tr>\n",
       "    <tr>\n",
       "      <th>Aladdin</th>\n",
       "      <td>3.748555</td>\n",
       "      <td>3.775194</td>\n",
       "      <td>3.962500</td>\n",
       "      <td>3.962963</td>\n",
       "      <td>3.523810</td>\n",
       "      <td>3.400000</td>\n",
       "      <td>3.658824</td>\n",
       "    </tr>\n",
       "    <tr>\n",
       "      <th>Alien</th>\n",
       "      <td>3.922078</td>\n",
       "      <td>4.252513</td>\n",
       "      <td>4.200000</td>\n",
       "      <td>4.164894</td>\n",
       "      <td>4.109677</td>\n",
       "      <td>4.070423</td>\n",
       "      <td>4.000000</td>\n",
       "    </tr>\n",
       "    <tr>\n",
       "      <th>Aliens</th>\n",
       "      <td>4.131833</td>\n",
       "      <td>4.196382</td>\n",
       "      <td>4.133508</td>\n",
       "      <td>4.087591</td>\n",
       "      <td>3.844262</td>\n",
       "      <td>3.883333</td>\n",
       "      <td>3.970588</td>\n",
       "    </tr>\n",
       "    <tr>\n",
       "      <th>Amadeus</th>\n",
       "      <td>4.117978</td>\n",
       "      <td>4.233141</td>\n",
       "      <td>4.210210</td>\n",
       "      <td>4.406250</td>\n",
       "      <td>4.386555</td>\n",
       "      <td>4.400000</td>\n",
       "      <td>4.240000</td>\n",
       "    </tr>\n",
       "    <tr>\n",
       "      <th>American Beauty</th>\n",
       "      <td>4.521678</td>\n",
       "      <td>4.330585</td>\n",
       "      <td>4.231156</td>\n",
       "      <td>4.151163</td>\n",
       "      <td>4.149194</td>\n",
       "      <td>4.108696</td>\n",
       "      <td>4.434783</td>\n",
       "    </tr>\n",
       "    <tr>\n",
       "      <th>American Pie</th>\n",
       "      <td>3.751185</td>\n",
       "      <td>3.783871</td>\n",
       "      <td>3.534483</td>\n",
       "      <td>3.333333</td>\n",
       "      <td>3.232558</td>\n",
       "      <td>3.160000</td>\n",
       "      <td>4.052632</td>\n",
       "    </tr>\n",
       "    <tr>\n",
       "      <th>Arachnophobia</th>\n",
       "      <td>2.968553</td>\n",
       "      <td>2.977528</td>\n",
       "      <td>3.079051</td>\n",
       "      <td>3.082474</td>\n",
       "      <td>2.954023</td>\n",
       "      <td>2.868421</td>\n",
       "      <td>3.175000</td>\n",
       "    </tr>\n",
       "  </tbody>\n",
       "</table>\n",
       "</div>"
      ],
      "text/plain": [
       "age                        18-24     25-34     35-44     45-49     50-55  \\\n",
       "name                                                                       \n",
       "2001: A Space Odyssey   3.923404  4.024712  4.080940  4.168478  4.241379   \n",
       "Abyss, The              3.893939  3.614509  3.686217  3.683099  3.513514   \n",
       "Airplane!               4.076667  4.002821  3.893805  3.931973  4.008696   \n",
       "Aladdin                 3.748555  3.775194  3.962500  3.962963  3.523810   \n",
       "Alien                   3.922078  4.252513  4.200000  4.164894  4.109677   \n",
       "Aliens                  4.131833  4.196382  4.133508  4.087591  3.844262   \n",
       "Amadeus                 4.117978  4.233141  4.210210  4.406250  4.386555   \n",
       "American Beauty         4.521678  4.330585  4.231156  4.151163  4.149194   \n",
       "American Pie            3.751185  3.783871  3.534483  3.333333  3.232558   \n",
       "Arachnophobia           2.968553  2.977528  3.079051  3.082474  2.954023   \n",
       "\n",
       "age                          56+      U-18  \n",
       "name                                        \n",
       "2001: A Space Odyssey   4.118280  4.150000  \n",
       "Abyss, The              3.509091  3.909091  \n",
       "Airplane!               3.731707  3.794872  \n",
       "Aladdin                 3.400000  3.658824  \n",
       "Alien                   4.070423  4.000000  \n",
       "Aliens                  3.883333  3.970588  \n",
       "Amadeus                 4.400000  4.240000  \n",
       "American Beauty         4.108696  4.434783  \n",
       "American Pie            3.160000  4.052632  \n",
       "Arachnophobia           2.868421  3.175000  "
      ]
     },
     "execution_count": 54,
     "metadata": {},
     "output_type": "execute_result"
    }
   ],
   "source": [
    "ratings_by_age.rating.mean().unstack(1).fillna(0)[:10]"
   ]
  },
  {
   "cell_type": "markdown",
   "metadata": {},
   "source": [
    "Moving forward, we will consider movies having atleast 150 reviews."
   ]
  },
  {
   "cell_type": "markdown",
   "metadata": {},
   "source": [
    "### Creating a new variable in our dataframe to store the number of reviews of each movies: n_reviews"
   ]
  },
  {
   "cell_type": "code",
   "execution_count": 55,
   "metadata": {
    "collapsed": true
   },
   "outputs": [],
   "source": [
    "movielens['n_reviews'] = movielens.groupby('movie').size()"
   ]
  },
  {
   "cell_type": "markdown",
   "metadata": {},
   "source": [
    "Modifying our dataframe to meet the threshold requirements:"
   ]
  },
  {
   "cell_type": "code",
   "execution_count": 56,
   "metadata": {
    "collapsed": true
   },
   "outputs": [],
   "source": [
    "movielens = movielens.loc[movielens.n_reviews >= 150]"
   ]
  },
  {
   "cell_type": "code",
   "execution_count": 57,
   "metadata": {},
   "outputs": [
    {
     "data": {
      "text/plain": [
       "(900589, 10)"
      ]
     },
     "execution_count": 57,
     "metadata": {},
     "output_type": "execute_result"
    }
   ],
   "source": [
    "movielens.shape"
   ]
  },
  {
   "cell_type": "markdown",
   "metadata": {},
   "source": [
    "##### Which movies do men and women differ on?"
   ]
  },
  {
   "cell_type": "code",
   "execution_count": 59,
   "metadata": {
    "collapsed": true
   },
   "outputs": [],
   "source": [
    "movies_pivot = movielens.pivot_table(index=['movie', 'name'],\n",
    "                           columns=['gender'],\n",
    "                           values='rating',\n",
    "                           fill_value=0)"
   ]
  },
  {
   "cell_type": "code",
   "execution_count": 60,
   "metadata": {
    "collapsed": true
   },
   "outputs": [],
   "source": [
    "movies_pivot['diff'] = movies_pivot.M - movies_pivot.F"
   ]
  },
  {
   "cell_type": "code",
   "execution_count": 61,
   "metadata": {
    "collapsed": true
   },
   "outputs": [],
   "source": [
    "movies_pivot.reset_index('movie', inplace=True)\n",
    "disagreements = movies_pivot[movies_pivot.movie.isin(top100_most_rated.index)]['diff']"
   ]
  },
  {
   "cell_type": "code",
   "execution_count": 62,
   "metadata": {},
   "outputs": [
    {
     "data": {
      "text/plain": [
       "<matplotlib.text.Text at 0x1327ba940>"
      ]
     },
     "execution_count": 62,
     "metadata": {},
     "output_type": "execute_result"
    },
    {
     "data": {
      "image/png": "[encoded data removed]",
      "text/plain": [
       "<matplotlib.figure.Figure at 0x1324f79b0>"
      ]
     },
     "metadata": {},
     "output_type": "display_data"
    }
   ],
   "source": [
    "disagreements.sort_values().plot(kind='barh', figsize=[15, 25], color=\"cornflowerblue\")\n",
    "plt.title('Male vs. Female Avg. Ratings\\n(Difference > 0 = Favored by Men)')\n",
    "plt.ylabel('Movie')\n",
    "plt.xlabel('Average Rating Difference')"
   ]
  },
  {
   "cell_type": "markdown",
   "metadata": {},
   "source": [
    "### Recommendation Systems:"
   ]
  },
  {
   "cell_type": "markdown",
   "metadata": {},
   "source": [
    "We will design our recommendation system based on collaborative filtering. This algorithm has a very interesting \n",
    "property of being able to do feature learning on its own, which means that it can start to learn for itself what\n",
    "features to use. \n",
    "\n",
    "CF can be divided into:\n",
    "    * Memory-Based Collaborative Filtering\n",
    "    * Model-Based Collaborative filtering\n",
    "\n",
    "We will design:\n",
    "    * Memory-Based CF by computing cosine similarity\n",
    "    * Model-Based CF by using singular value decomposition (SVD) "
   ]
  },
  {
   "cell_type": "markdown",
   "metadata": {},
   "source": [
    "#### Memory-Based Collaborative Filtering:"
   ]
  },
  {
   "cell_type": "markdown",
   "metadata": {},
   "source": [
    "Memory-Based Collaborative Filtering approaches can be divided into two main sections: \n",
    "    \n",
    "    * user-item filtering : “Users who are similar to you also liked …”\n",
    "    * item-item filtering : “Users who liked this item also liked …”\n",
    "    \n",
    "In both cases, you create a user-item matrix which we build from the entire dataset."
   ]
  },
  {
   "cell_type": "code",
   "execution_count": 64,
   "metadata": {
    "collapsed": true
   },
   "outputs": [],
   "source": [
    "ratings_pivot = ratings.pivot(index = 'user', columns ='movie', values = 'rating').fillna(0)"
   ]
  },
  {
   "cell_type": "code",
   "execution_count": 66,
   "metadata": {},
   "outputs": [
    {
     "data": {
      "text/html": [
       "<div>\n",
       "<style>\n",
       "    .dataframe thead tr:only-child th {\n",
       "        text-align: right;\n",
       "    }\n",
       "\n",
       "    .dataframe thead th {\n",
       "        text-align: left;\n",
       "    }\n",
       "\n",
       "    .dataframe tbody tr th {\n",
       "        vertical-align: top;\n",
       "    }\n",
       "</style>\n",
       "<table border=\"1\" class=\"dataframe\">\n",
       "  <thead>\n",
       "    <tr style=\"text-align: right;\">\n",
       "      <th>movie</th>\n",
       "      <th>1</th>\n",
       "      <th>2</th>\n",
       "      <th>3</th>\n",
       "      <th>4</th>\n",
       "      <th>5</th>\n",
       "      <th>6</th>\n",
       "      <th>7</th>\n",
       "      <th>8</th>\n",
       "      <th>9</th>\n",
       "      <th>10</th>\n",
       "      <th>...</th>\n",
       "      <th>3943</th>\n",
       "      <th>3944</th>\n",
       "      <th>3945</th>\n",
       "      <th>3946</th>\n",
       "      <th>3947</th>\n",
       "      <th>3948</th>\n",
       "      <th>3949</th>\n",
       "      <th>3950</th>\n",
       "      <th>3951</th>\n",
       "      <th>3952</th>\n",
       "    </tr>\n",
       "    <tr>\n",
       "      <th>user</th>\n",
       "      <th></th>\n",
       "      <th></th>\n",
       "      <th></th>\n",
       "      <th></th>\n",
       "      <th></th>\n",
       "      <th></th>\n",
       "      <th></th>\n",
       "      <th></th>\n",
       "      <th></th>\n",
       "      <th></th>\n",
       "      <th></th>\n",
       "      <th></th>\n",
       "      <th></th>\n",
       "      <th></th>\n",
       "      <th></th>\n",
       "      <th></th>\n",
       "      <th></th>\n",
       "      <th></th>\n",
       "      <th></th>\n",
       "      <th></th>\n",
       "      <th></th>\n",
       "    </tr>\n",
       "  </thead>\n",
       "  <tbody>\n",
       "    <tr>\n",
       "      <th>1</th>\n",
       "      <td>5.0</td>\n",
       "      <td>0.0</td>\n",
       "      <td>0.0</td>\n",
       "      <td>0.0</td>\n",
       "      <td>0.0</td>\n",
       "      <td>0.0</td>\n",
       "      <td>0.0</td>\n",
       "      <td>0.0</td>\n",
       "      <td>0.0</td>\n",
       "      <td>0.0</td>\n",
       "      <td>...</td>\n",
       "      <td>0.0</td>\n",
       "      <td>0.0</td>\n",
       "      <td>0.0</td>\n",
       "      <td>0.0</td>\n",
       "      <td>0.0</td>\n",
       "      <td>0.0</td>\n",
       "      <td>0.0</td>\n",
       "      <td>0.0</td>\n",
       "      <td>0.0</td>\n",
       "      <td>0.0</td>\n",
       "    </tr>\n",
       "    <tr>\n",
       "      <th>2</th>\n",
       "      <td>0.0</td>\n",
       "      <td>0.0</td>\n",
       "      <td>0.0</td>\n",
       "      <td>0.0</td>\n",
       "      <td>0.0</td>\n",
       "      <td>0.0</td>\n",
       "      <td>0.0</td>\n",
       "      <td>0.0</td>\n",
       "      <td>0.0</td>\n",
       "      <td>0.0</td>\n",
       "      <td>...</td>\n",
       "      <td>0.0</td>\n",
       "      <td>0.0</td>\n",
       "      <td>0.0</td>\n",
       "      <td>0.0</td>\n",
       "      <td>0.0</td>\n",
       "      <td>0.0</td>\n",
       "      <td>0.0</td>\n",
       "      <td>0.0</td>\n",
       "      <td>0.0</td>\n",
       "      <td>0.0</td>\n",
       "    </tr>\n",
       "    <tr>\n",
       "      <th>3</th>\n",
       "      <td>0.0</td>\n",
       "      <td>0.0</td>\n",
       "      <td>0.0</td>\n",
       "      <td>0.0</td>\n",
       "      <td>0.0</td>\n",
       "      <td>0.0</td>\n",
       "      <td>0.0</td>\n",
       "      <td>0.0</td>\n",
       "      <td>0.0</td>\n",
       "      <td>0.0</td>\n",
       "      <td>...</td>\n",
       "      <td>0.0</td>\n",
       "      <td>0.0</td>\n",
       "      <td>0.0</td>\n",
       "      <td>0.0</td>\n",
       "      <td>0.0</td>\n",
       "      <td>0.0</td>\n",
       "      <td>0.0</td>\n",
       "      <td>0.0</td>\n",
       "      <td>0.0</td>\n",
       "      <td>0.0</td>\n",
       "    </tr>\n",
       "    <tr>\n",
       "      <th>4</th>\n",
       "      <td>0.0</td>\n",
       "      <td>0.0</td>\n",
       "      <td>0.0</td>\n",
       "      <td>0.0</td>\n",
       "      <td>0.0</td>\n",
       "      <td>0.0</td>\n",
       "      <td>0.0</td>\n",
       "      <td>0.0</td>\n",
       "      <td>0.0</td>\n",
       "      <td>0.0</td>\n",
       "      <td>...</td>\n",
       "      <td>0.0</td>\n",
       "      <td>0.0</td>\n",
       "      <td>0.0</td>\n",
       "      <td>0.0</td>\n",
       "      <td>0.0</td>\n",
       "      <td>0.0</td>\n",
       "      <td>0.0</td>\n",
       "      <td>0.0</td>\n",
       "      <td>0.0</td>\n",
       "      <td>0.0</td>\n",
       "    </tr>\n",
       "    <tr>\n",
       "      <th>5</th>\n",
       "      <td>0.0</td>\n",
       "      <td>0.0</td>\n",
       "      <td>0.0</td>\n",
       "      <td>0.0</td>\n",
       "      <td>0.0</td>\n",
       "      <td>2.0</td>\n",
       "      <td>0.0</td>\n",
       "      <td>0.0</td>\n",
       "      <td>0.0</td>\n",
       "      <td>0.0</td>\n",
       "      <td>...</td>\n",
       "      <td>0.0</td>\n",
       "      <td>0.0</td>\n",
       "      <td>0.0</td>\n",
       "      <td>0.0</td>\n",
       "      <td>0.0</td>\n",
       "      <td>0.0</td>\n",
       "      <td>0.0</td>\n",
       "      <td>0.0</td>\n",
       "      <td>0.0</td>\n",
       "      <td>0.0</td>\n",
       "    </tr>\n",
       "  </tbody>\n",
       "</table>\n",
       "<p>5 rows × 3706 columns</p>\n",
       "</div>"
      ],
      "text/plain": [
       "movie  1     2     3     4     5     6     7     8     9     10    ...   3943  \\\n",
       "user                                                               ...          \n",
       "1       5.0   0.0   0.0   0.0   0.0   0.0   0.0   0.0   0.0   0.0  ...    0.0   \n",
       "2       0.0   0.0   0.0   0.0   0.0   0.0   0.0   0.0   0.0   0.0  ...    0.0   \n",
       "3       0.0   0.0   0.0   0.0   0.0   0.0   0.0   0.0   0.0   0.0  ...    0.0   \n",
       "4       0.0   0.0   0.0   0.0   0.0   0.0   0.0   0.0   0.0   0.0  ...    0.0   \n",
       "5       0.0   0.0   0.0   0.0   0.0   2.0   0.0   0.0   0.0   0.0  ...    0.0   \n",
       "\n",
       "movie  3944  3945  3946  3947  3948  3949  3950  3951  3952  \n",
       "user                                                         \n",
       "1       0.0   0.0   0.0   0.0   0.0   0.0   0.0   0.0   0.0  \n",
       "2       0.0   0.0   0.0   0.0   0.0   0.0   0.0   0.0   0.0  \n",
       "3       0.0   0.0   0.0   0.0   0.0   0.0   0.0   0.0   0.0  \n",
       "4       0.0   0.0   0.0   0.0   0.0   0.0   0.0   0.0   0.0  \n",
       "5       0.0   0.0   0.0   0.0   0.0   0.0   0.0   0.0   0.0  \n",
       "\n",
       "[5 rows x 3706 columns]"
      ]
     },
     "execution_count": 66,
     "metadata": {},
     "output_type": "execute_result"
    }
   ],
   "source": [
    "ratings_pivot.head()"
   ]
  },
  {
   "cell_type": "code",
   "execution_count": 67,
   "metadata": {
    "collapsed": true
   },
   "outputs": [],
   "source": [
    "# Converting to matrix form\n",
    "\n",
    "ratings_matrix = ratings_pivot.as_matrix()"
   ]
  },
  {
   "cell_type": "code",
   "execution_count": 68,
   "metadata": {
    "collapsed": true
   },
   "outputs": [],
   "source": [
    "#Normalizing the matrix\n",
    "\n",
    "user_ratings_mean = np.mean(ratings_matrix, axis = 1)\n",
    "ratings_normalized = ratings_matrix - user_ratings_mean.reshape(-1, 1)"
   ]
  },
  {
   "cell_type": "code",
   "execution_count": 69,
   "metadata": {},
   "outputs": [
    {
     "name": "stderr",
     "output_type": "stream",
     "text": [
      "/Users/Saarthak92/anaconda3/lib/python3.6/site-packages/sklearn/cross_validation.py:41: DeprecationWarning: This module was deprecated in version 0.18 in favor of the model_selection module into which all the refactored classes and functions are moved. Also note that the interface of the new CV iterators are different from that of this module. This module will be removed in 0.20.\n",
      "  \"This module will be removed in 0.20.\", DeprecationWarning)\n"
     ]
    }
   ],
   "source": [
    "#Splitting data into train and test set\n",
    "\n",
    "from sklearn import cross_validation as cv\n",
    "\n",
    "train_matrix, test_matrix = cv.train_test_split(ratings_normalized, test_size=0.25)"
   ]
  },
  {
   "cell_type": "markdown",
   "metadata": {},
   "source": [
    "We use the pairwise_distances function from sklearn to calculate the cosine similarity. The output will \n",
    "range from 0 to 1 since the ratings are all positive."
   ]
  },
  {
   "cell_type": "code",
   "execution_count": 70,
   "metadata": {
    "collapsed": true
   },
   "outputs": [],
   "source": [
    "from sklearn.metrics.pairwise import pairwise_distances\n",
    "\n",
    "user_similarity = pairwise_distances(train_matrix, metric='cosine')\n",
    "item_similarity = pairwise_distances(train_matrix.T, metric='cosine')"
   ]
  },
  {
   "cell_type": "markdown",
   "metadata": {},
   "source": [
    "Next, we make predictions"
   ]
  },
  {
   "cell_type": "code",
   "execution_count": 71,
   "metadata": {
    "collapsed": true
   },
   "outputs": [],
   "source": [
    "def predict(ratings, similarity, type='user'):\n",
    "    if type == 'user':\n",
    "        mean_user_rating = ratings.mean(axis=1)\n",
    "        #You use np.newaxis so that mean_user_rating has same format as ratings\n",
    "        ratings_diff = (ratings - mean_user_rating[:, np.newaxis])\n",
    "        pred = mean_user_rating[:, np.newaxis] + similarity.dot(ratings_diff) / np.array([np.abs(similarity).sum(axis=1)]).T\n",
    "    elif type == 'movie':\n",
    "        pred = ratings.dot(similarity) / np.array([np.abs(similarity).sum(axis=1)])\n",
    "    return pred"
   ]
  },
  {
   "cell_type": "markdown",
   "metadata": {},
   "source": [
    "The above function can be explained as follows:\n",
    "    \n",
    "* user-item CF:\n",
    "            The idea here is that some users may tend always to give high or low ratings to all movies. The \n",
    "            relative difference in the ratings that these users give is more important than the absolute values. \n",
    "            Suppose a user gives 4 stars to his/her favourite movies and 3 stars to all other good movies while\n",
    "            another user rates movies that he/she likes with 5 stars, and the movies he/she fell asleep over \n",
    "            with 3 stars. These two users could have a very similar taste but treat the rating system differently.\n",
    "\n",
    "* item-item CF: \n",
    "            When making a prediction for item-based CF, we do not need to correct for users average rating since\n",
    "            query user itself is used to do predictions."
   ]
  },
  {
   "cell_type": "code",
   "execution_count": 72,
   "metadata": {
    "collapsed": true
   },
   "outputs": [],
   "source": [
    "item_prediction = predict(train_matrix, item_similarity, type='movie')\n",
    "user_prediction = predict(train_matrix, user_similarity, type='user')"
   ]
  },
  {
   "cell_type": "markdown",
   "metadata": {},
   "source": [
    "##### Evaluating our model"
   ]
  },
  {
   "cell_type": "markdown",
   "metadata": {},
   "source": [
    "Since you only want to consider predicted ratings that are in the test dataset, you filter out all other elements\n",
    "in the prediction matrix with prediction[ground_truth.nonzero()]."
   ]
  },
  {
   "cell_type": "code",
   "execution_count": 73,
   "metadata": {
    "collapsed": true
   },
   "outputs": [],
   "source": [
    "from sklearn.metrics import mean_squared_error\n",
    "from math import sqrt\n",
    "\n",
    "def rmse(prediction, ground_truth):\n",
    "    prediction = prediction[ground_truth.nonzero()].flatten()\n",
    "    ground_truth = ground_truth[ground_truth.nonzero()].flatten()\n",
    "    return sqrt(mean_squared_error(prediction, ground_truth))"
   ]
  },
  {
   "cell_type": "code",
   "execution_count": 74,
   "metadata": {},
   "outputs": [
    {
     "name": "stdout",
     "output_type": "stream",
     "text": [
      "User-based CF RMSE: 0.7182091024244744\n",
      "Item-based CF RMSE: 0.7780863519870469\n"
     ]
    }
   ],
   "source": [
    "print('User-based CF RMSE: ' + str(rmse(user_prediction, test_matrix)))\n",
    "print('Item-based CF RMSE: ' + str(rmse(item_prediction, test_matrix)))"
   ]
  },
  {
   "cell_type": "markdown",
   "metadata": {},
   "source": [
    "#### Model-Based Collaborative Filtering:"
   ]
  },
  {
   "cell_type": "markdown",
   "metadata": {},
   "source": [
    "Model-based Collaborative Filtering is based on matrix factorization (MF).\n",
    "\n",
    "MF has received greater exposure, mainly as an unsupervised learning method for latent variable decomposition \n",
    "and dimensionality reduction.\n",
    "\n",
    "Matrix factorization is widely used for recommender systems where it can deal better with scalability and sparsity\n",
    "than Memory-based CF."
   ]
  },
  {
   "cell_type": "code",
   "execution_count": 76,
   "metadata": {},
   "outputs": [
    {
     "name": "stdout",
     "output_type": "stream",
     "text": [
      "Number of users = 6040 | Number of movies = 3706\n"
     ]
    }
   ],
   "source": [
    "n_users = ratings.user.unique().shape[0]\n",
    "n_movies = ratings.movie.unique().shape[0]\n",
    "print('Number of users = ' + str(n_users) + ' | Number of movies = ' + str(n_movies))"
   ]
  },
  {
   "cell_type": "code",
   "execution_count": 77,
   "metadata": {},
   "outputs": [
    {
     "name": "stdout",
     "output_type": "stream",
     "text": [
      "The sparsity level is 95.5%\n"
     ]
    }
   ],
   "source": [
    "sparsity=round(1.0-len(ratings)/float(n_users*n_movies),3)\n",
    "print('The sparsity level is ' +  str(sparsity*100) + '%')"
   ]
  },
  {
   "cell_type": "markdown",
   "metadata": {},
   "source": [
    "A well-known matrix factorization method is Singular Value Decomposition (SVD). Collaborative Filtering can be \n",
    "formulated by approximating a matrix X by using SVD."
   ]
  },
  {
   "cell_type": "markdown",
   "metadata": {},
   "source": [
    "The general equation can be expressed as follows: \n",
    "    \n",
    "    X = U × S × V_transporse\n",
    "    \n",
    "Given mxn matrix X:\n",
    "   \n",
    "      * U is an mxr orthogonal matrix.\n",
    "      * S is an rxr non-negative diagonal matrix.\n",
    "      * V_transporse is an rxn orthogonal matrix."
   ]
  },
  {
   "cell_type": "markdown",
   "metadata": {},
   "source": [
    "Matrix X can be factorized to U, S and V such that:\n",
    "\n",
    "* Diagonal elements of S are singular values of X\n",
    "* U matrix represents the feature vectors corresponding to the users in the hidden feature space\n",
    "* V matrix represents the feature vectors corresponding to the items in the hidden feature space\n",
    "\n",
    "We make predictions using the dot products of U, S and V_transporse."
   ]
  },
  {
   "cell_type": "code",
   "execution_count": 82,
   "metadata": {},
   "outputs": [
    {
     "name": "stdout",
     "output_type": "stream",
     "text": [
      "User-based CF MSE: 0.8171179789849455\n"
     ]
    }
   ],
   "source": [
    "import scipy.sparse as sp\n",
    "from scipy.sparse.linalg import svds\n",
    "\n",
    "#get SVD components from train matrix. Choose k.\n",
    "u, s, vt = svds(train_matrix, k = 20)\n",
    "s_diag_matrix=np.diag(s)\n",
    "X_pred = np.dot(np.dot(u, s_diag_matrix), vt)\n",
    "print('User-based CF MSE: ' + str(rmse(X_pred, test_matrix)))"
   ]
  },
  {
   "cell_type": "markdown",
   "metadata": {},
   "source": [
    "##### Designing a model for Matrix Factorization-based Collaborative Filtering:"
   ]
  },
  {
   "cell_type": "code",
   "execution_count": 84,
   "metadata": {
    "collapsed": true
   },
   "outputs": [],
   "source": [
    "U, sigma, Vt = svds(ratings_normalized, k = 50)\n",
    "sigma = np.diag(sigma)"
   ]
  },
  {
   "cell_type": "code",
   "execution_count": 85,
   "metadata": {
    "collapsed": true
   },
   "outputs": [],
   "source": [
    "all_user_predicted_ratings = np.dot(np.dot(U, sigma), Vt) + user_ratings_mean.reshape(-1, 1)\n",
    "preds_df = pd.DataFrame(all_user_predicted_ratings, columns = ratings_pivot.columns)"
   ]
  },
  {
   "cell_type": "code",
   "execution_count": 86,
   "metadata": {
    "collapsed": true
   },
   "outputs": [],
   "source": [
    "def recommend_movies(predictions_df, user, movies, ratings, num_recommendations=5):\n",
    "    \n",
    "    # Get and sort the user's predictions\n",
    "    user_row_number = user - 1 # UserID starts at 1, not 0\n",
    "    sorted_user_predictions = preds_df.iloc[user_row_number].sort_values(ascending=False) # UserID starts at 1\n",
    "    \n",
    "    # Get the user's data and merge in the movie information.\n",
    "    user_data = ratings[ratings.user == user]\n",
    "    user_full = (user_data.merge(movies, how = 'left', left_on = 'movie', right_on = 'movie').\n",
    "                     sort_values(['rating'], ascending=False)\n",
    "                 )\n",
    "\n",
    "    print('User {0} has already rated {1} movies '.format(user, user_full.shape[0]))\n",
    "    print('Recommending highest {0} predicted ratings movies not already rated '.format(num_recommendations))\n",
    "    \n",
    "    # Recommend the highest predicted rating movies that the user hasn't seen yet.\n",
    "    recommendations = (movies[~movies['movie'].isin(user_full['movie'])].\n",
    "         merge(pd.DataFrame(sorted_user_predictions).reset_index(), how = 'left',\n",
    "               left_on = 'movie',\n",
    "               right_on = 'movie').\n",
    "         rename(columns = {user_row_number: 'Predictions'}).\n",
    "         sort_values('Predictions', ascending = False).\n",
    "                       iloc[:num_recommendations, :-1]\n",
    "                      )\n",
    "\n",
    "    return user_full, recommendations"
   ]
  },
  {
   "cell_type": "code",
   "execution_count": 88,
   "metadata": {},
   "outputs": [
    {
     "name": "stdout",
     "output_type": "stream",
     "text": [
      "User 3 has already rated 51 movies \n",
      "Recommending highest 10 predicted ratings movies not already rated \n"
     ]
    }
   ],
   "source": [
    "already_rated, predictions = recommend_movies(preds_df, 3, movies, ratings, 10)"
   ]
  },
  {
   "cell_type": "code",
   "execution_count": 89,
   "metadata": {},
   "outputs": [
    {
     "data": {
      "text/html": [
       "<div>\n",
       "<style>\n",
       "    .dataframe thead tr:only-child th {\n",
       "        text-align: right;\n",
       "    }\n",
       "\n",
       "    .dataframe thead th {\n",
       "        text-align: left;\n",
       "    }\n",
       "\n",
       "    .dataframe tbody tr th {\n",
       "        vertical-align: top;\n",
       "    }\n",
       "</style>\n",
       "<table border=\"1\" class=\"dataframe\">\n",
       "  <thead>\n",
       "    <tr style=\"text-align: right;\">\n",
       "      <th></th>\n",
       "      <th>user</th>\n",
       "      <th>movie</th>\n",
       "      <th>rating</th>\n",
       "      <th>time</th>\n",
       "      <th>title</th>\n",
       "      <th>genre</th>\n",
       "    </tr>\n",
       "  </thead>\n",
       "  <tbody>\n",
       "    <tr>\n",
       "      <th>38</th>\n",
       "      <td>3</td>\n",
       "      <td>1304</td>\n",
       "      <td>5</td>\n",
       "      <td>978298166</td>\n",
       "      <td>Butch Cassidy and the Sundance Kid (1969)</td>\n",
       "      <td>Action|Comedy|Western</td>\n",
       "    </tr>\n",
       "    <tr>\n",
       "      <th>12</th>\n",
       "      <td>3</td>\n",
       "      <td>1615</td>\n",
       "      <td>5</td>\n",
       "      <td>978297710</td>\n",
       "      <td>Edge, The (1997)</td>\n",
       "      <td>Adventure|Thriller</td>\n",
       "    </tr>\n",
       "    <tr>\n",
       "      <th>31</th>\n",
       "      <td>3</td>\n",
       "      <td>2355</td>\n",
       "      <td>5</td>\n",
       "      <td>978298430</td>\n",
       "      <td>Bug's Life, A (1998)</td>\n",
       "      <td>Animation|Children's|Comedy</td>\n",
       "    </tr>\n",
       "    <tr>\n",
       "      <th>32</th>\n",
       "      <td>3</td>\n",
       "      <td>1197</td>\n",
       "      <td>5</td>\n",
       "      <td>978297570</td>\n",
       "      <td>Princess Bride, The (1987)</td>\n",
       "      <td>Action|Adventure|Comedy|Romance</td>\n",
       "    </tr>\n",
       "    <tr>\n",
       "      <th>33</th>\n",
       "      <td>3</td>\n",
       "      <td>1198</td>\n",
       "      <td>5</td>\n",
       "      <td>978297570</td>\n",
       "      <td>Raiders of the Lost Ark (1981)</td>\n",
       "      <td>Action|Adventure</td>\n",
       "    </tr>\n",
       "    <tr>\n",
       "      <th>19</th>\n",
       "      <td>3</td>\n",
       "      <td>260</td>\n",
       "      <td>5</td>\n",
       "      <td>978297512</td>\n",
       "      <td>Star Wars: Episode IV - A New Hope (1977)</td>\n",
       "      <td>Action|Adventure|Fantasy|Sci-Fi</td>\n",
       "    </tr>\n",
       "    <tr>\n",
       "      <th>34</th>\n",
       "      <td>3</td>\n",
       "      <td>1378</td>\n",
       "      <td>5</td>\n",
       "      <td>978297419</td>\n",
       "      <td>Young Guns (1988)</td>\n",
       "      <td>Action|Comedy|Western</td>\n",
       "    </tr>\n",
       "    <tr>\n",
       "      <th>16</th>\n",
       "      <td>3</td>\n",
       "      <td>2167</td>\n",
       "      <td>5</td>\n",
       "      <td>978297600</td>\n",
       "      <td>Blade (1998)</td>\n",
       "      <td>Action|Adventure|Horror</td>\n",
       "    </tr>\n",
       "    <tr>\n",
       "      <th>37</th>\n",
       "      <td>3</td>\n",
       "      <td>3552</td>\n",
       "      <td>5</td>\n",
       "      <td>978298459</td>\n",
       "      <td>Caddyshack (1980)</td>\n",
       "      <td>Comedy</td>\n",
       "    </tr>\n",
       "    <tr>\n",
       "      <th>14</th>\n",
       "      <td>3</td>\n",
       "      <td>1259</td>\n",
       "      <td>5</td>\n",
       "      <td>978298296</td>\n",
       "      <td>Stand by Me (1986)</td>\n",
       "      <td>Adventure|Comedy|Drama</td>\n",
       "    </tr>\n",
       "    <tr>\n",
       "      <th>27</th>\n",
       "      <td>3</td>\n",
       "      <td>1266</td>\n",
       "      <td>5</td>\n",
       "      <td>978297396</td>\n",
       "      <td>Unforgiven (1992)</td>\n",
       "      <td>Western</td>\n",
       "    </tr>\n",
       "    <tr>\n",
       "      <th>28</th>\n",
       "      <td>3</td>\n",
       "      <td>733</td>\n",
       "      <td>5</td>\n",
       "      <td>978297757</td>\n",
       "      <td>Rock, The (1996)</td>\n",
       "      <td>Action|Adventure|Thriller</td>\n",
       "    </tr>\n",
       "    <tr>\n",
       "      <th>10</th>\n",
       "      <td>3</td>\n",
       "      <td>1079</td>\n",
       "      <td>5</td>\n",
       "      <td>978298296</td>\n",
       "      <td>Fish Called Wanda, A (1988)</td>\n",
       "      <td>Comedy</td>\n",
       "    </tr>\n",
       "    <tr>\n",
       "      <th>44</th>\n",
       "      <td>3</td>\n",
       "      <td>3671</td>\n",
       "      <td>5</td>\n",
       "      <td>978297419</td>\n",
       "      <td>Blazing Saddles (1974)</td>\n",
       "      <td>Comedy|Western</td>\n",
       "    </tr>\n",
       "    <tr>\n",
       "      <th>49</th>\n",
       "      <td>3</td>\n",
       "      <td>1136</td>\n",
       "      <td>5</td>\n",
       "      <td>978298079</td>\n",
       "      <td>Monty Python and the Holy Grail (1974)</td>\n",
       "      <td>Comedy</td>\n",
       "    </tr>\n",
       "    <tr>\n",
       "      <th>40</th>\n",
       "      <td>3</td>\n",
       "      <td>2470</td>\n",
       "      <td>4</td>\n",
       "      <td>978297777</td>\n",
       "      <td>Crocodile Dundee (1986)</td>\n",
       "      <td>Adventure|Comedy</td>\n",
       "    </tr>\n",
       "    <tr>\n",
       "      <th>41</th>\n",
       "      <td>3</td>\n",
       "      <td>3168</td>\n",
       "      <td>4</td>\n",
       "      <td>978297570</td>\n",
       "      <td>Easy Rider (1969)</td>\n",
       "      <td>Adventure|Drama</td>\n",
       "    </tr>\n",
       "    <tr>\n",
       "      <th>43</th>\n",
       "      <td>3</td>\n",
       "      <td>1961</td>\n",
       "      <td>4</td>\n",
       "      <td>978297095</td>\n",
       "      <td>Rain Man (1988)</td>\n",
       "      <td>Drama</td>\n",
       "    </tr>\n",
       "    <tr>\n",
       "      <th>36</th>\n",
       "      <td>3</td>\n",
       "      <td>1379</td>\n",
       "      <td>4</td>\n",
       "      <td>978297419</td>\n",
       "      <td>Young Guns II (1990)</td>\n",
       "      <td>Action|Comedy|Western</td>\n",
       "    </tr>\n",
       "    <tr>\n",
       "      <th>45</th>\n",
       "      <td>3</td>\n",
       "      <td>2006</td>\n",
       "      <td>4</td>\n",
       "      <td>978297757</td>\n",
       "      <td>Mask of Zorro, The (1998)</td>\n",
       "      <td>Action|Adventure|Romance</td>\n",
       "    </tr>\n",
       "    <tr>\n",
       "      <th>46</th>\n",
       "      <td>3</td>\n",
       "      <td>2871</td>\n",
       "      <td>4</td>\n",
       "      <td>978297539</td>\n",
       "      <td>Deliverance (1972)</td>\n",
       "      <td>Adventure|Thriller</td>\n",
       "    </tr>\n",
       "    <tr>\n",
       "      <th>47</th>\n",
       "      <td>3</td>\n",
       "      <td>2115</td>\n",
       "      <td>4</td>\n",
       "      <td>978297777</td>\n",
       "      <td>Indiana Jones and the Temple of Doom (1984)</td>\n",
       "      <td>Action|Adventure</td>\n",
       "    </tr>\n",
       "    <tr>\n",
       "      <th>48</th>\n",
       "      <td>3</td>\n",
       "      <td>1968</td>\n",
       "      <td>4</td>\n",
       "      <td>978297068</td>\n",
       "      <td>Breakfast Club, The (1985)</td>\n",
       "      <td>Comedy|Drama</td>\n",
       "    </tr>\n",
       "    <tr>\n",
       "      <th>30</th>\n",
       "      <td>3</td>\n",
       "      <td>590</td>\n",
       "      <td>4</td>\n",
       "      <td>978297439</td>\n",
       "      <td>Dances with Wolves (1990)</td>\n",
       "      <td>Adventure|Drama|Western</td>\n",
       "    </tr>\n",
       "    <tr>\n",
       "      <th>29</th>\n",
       "      <td>3</td>\n",
       "      <td>1196</td>\n",
       "      <td>4</td>\n",
       "      <td>978297539</td>\n",
       "      <td>Star Wars: Episode V - The Empire Strikes Back...</td>\n",
       "      <td>Action|Adventure|Drama|Sci-Fi|War</td>\n",
       "    </tr>\n",
       "    <tr>\n",
       "      <th>0</th>\n",
       "      <td>3</td>\n",
       "      <td>3421</td>\n",
       "      <td>4</td>\n",
       "      <td>978298147</td>\n",
       "      <td>Animal House (1978)</td>\n",
       "      <td>Comedy</td>\n",
       "    </tr>\n",
       "    <tr>\n",
       "      <th>25</th>\n",
       "      <td>3</td>\n",
       "      <td>480</td>\n",
       "      <td>4</td>\n",
       "      <td>978297690</td>\n",
       "      <td>Jurassic Park (1993)</td>\n",
       "      <td>Action|Adventure|Sci-Fi</td>\n",
       "    </tr>\n",
       "    <tr>\n",
       "      <th>50</th>\n",
       "      <td>3</td>\n",
       "      <td>2081</td>\n",
       "      <td>4</td>\n",
       "      <td>978298504</td>\n",
       "      <td>Little Mermaid, The (1989)</td>\n",
       "      <td>Animation|Children's|Comedy|Musical|Romance</td>\n",
       "    </tr>\n",
       "    <tr>\n",
       "      <th>24</th>\n",
       "      <td>3</td>\n",
       "      <td>552</td>\n",
       "      <td>4</td>\n",
       "      <td>978297837</td>\n",
       "      <td>Three Musketeers, The (1993)</td>\n",
       "      <td>Action|Adventure|Comedy</td>\n",
       "    </tr>\n",
       "    <tr>\n",
       "      <th>22</th>\n",
       "      <td>3</td>\n",
       "      <td>1049</td>\n",
       "      <td>4</td>\n",
       "      <td>978297805</td>\n",
       "      <td>Ghost and the Darkness, The (1996)</td>\n",
       "      <td>Action|Adventure</td>\n",
       "    </tr>\n",
       "    <tr>\n",
       "      <th>3</th>\n",
       "      <td>3</td>\n",
       "      <td>1394</td>\n",
       "      <td>4</td>\n",
       "      <td>978298147</td>\n",
       "      <td>Raising Arizona (1987)</td>\n",
       "      <td>Comedy</td>\n",
       "    </tr>\n",
       "    <tr>\n",
       "      <th>20</th>\n",
       "      <td>3</td>\n",
       "      <td>2858</td>\n",
       "      <td>4</td>\n",
       "      <td>978297039</td>\n",
       "      <td>American Beauty (1999)</td>\n",
       "      <td>Comedy|Drama</td>\n",
       "    </tr>\n",
       "    <tr>\n",
       "      <th>5</th>\n",
       "      <td>3</td>\n",
       "      <td>104</td>\n",
       "      <td>4</td>\n",
       "      <td>978298486</td>\n",
       "      <td>Happy Gilmore (1996)</td>\n",
       "      <td>Comedy</td>\n",
       "    </tr>\n",
       "    <tr>\n",
       "      <th>6</th>\n",
       "      <td>3</td>\n",
       "      <td>2735</td>\n",
       "      <td>4</td>\n",
       "      <td>978297867</td>\n",
       "      <td>Golden Child, The (1986)</td>\n",
       "      <td>Action|Adventure|Comedy</td>\n",
       "    </tr>\n",
       "    <tr>\n",
       "      <th>15</th>\n",
       "      <td>3</td>\n",
       "      <td>653</td>\n",
       "      <td>4</td>\n",
       "      <td>978297757</td>\n",
       "      <td>Dragonheart (1996)</td>\n",
       "      <td>Action|Adventure|Fantasy</td>\n",
       "    </tr>\n",
       "    <tr>\n",
       "      <th>13</th>\n",
       "      <td>3</td>\n",
       "      <td>1291</td>\n",
       "      <td>4</td>\n",
       "      <td>978297600</td>\n",
       "      <td>Indiana Jones and the Last Crusade (1989)</td>\n",
       "      <td>Action|Adventure</td>\n",
       "    </tr>\n",
       "    <tr>\n",
       "      <th>7</th>\n",
       "      <td>3</td>\n",
       "      <td>1210</td>\n",
       "      <td>4</td>\n",
       "      <td>978297600</td>\n",
       "      <td>Star Wars: Episode VI - Return of the Jedi (1983)</td>\n",
       "      <td>Action|Adventure|Romance|Sci-Fi|War</td>\n",
       "    </tr>\n",
       "    <tr>\n",
       "      <th>9</th>\n",
       "      <td>3</td>\n",
       "      <td>3868</td>\n",
       "      <td>3</td>\n",
       "      <td>978298486</td>\n",
       "      <td>Naked Gun: From the Files of Police Squad!, Th...</td>\n",
       "      <td>Comedy</td>\n",
       "    </tr>\n",
       "    <tr>\n",
       "      <th>2</th>\n",
       "      <td>3</td>\n",
       "      <td>648</td>\n",
       "      <td>3</td>\n",
       "      <td>978297867</td>\n",
       "      <td>Mission: Impossible (1996)</td>\n",
       "      <td>Action|Adventure|Mystery</td>\n",
       "    </tr>\n",
       "    <tr>\n",
       "      <th>4</th>\n",
       "      <td>3</td>\n",
       "      <td>3534</td>\n",
       "      <td>3</td>\n",
       "      <td>978297068</td>\n",
       "      <td>28 Days (2000)</td>\n",
       "      <td>Comedy</td>\n",
       "    </tr>\n",
       "    <tr>\n",
       "      <th>8</th>\n",
       "      <td>3</td>\n",
       "      <td>1431</td>\n",
       "      <td>3</td>\n",
       "      <td>978297095</td>\n",
       "      <td>Beverly Hills Ninja (1997)</td>\n",
       "      <td>Action|Comedy</td>\n",
       "    </tr>\n",
       "    <tr>\n",
       "      <th>39</th>\n",
       "      <td>3</td>\n",
       "      <td>1270</td>\n",
       "      <td>3</td>\n",
       "      <td>978298231</td>\n",
       "      <td>Back to the Future (1985)</td>\n",
       "      <td>Comedy|Sci-Fi</td>\n",
       "    </tr>\n",
       "    <tr>\n",
       "      <th>11</th>\n",
       "      <td>3</td>\n",
       "      <td>2997</td>\n",
       "      <td>3</td>\n",
       "      <td>978298147</td>\n",
       "      <td>Being John Malkovich (1999)</td>\n",
       "      <td>Comedy</td>\n",
       "    </tr>\n",
       "    <tr>\n",
       "      <th>17</th>\n",
       "      <td>3</td>\n",
       "      <td>1580</td>\n",
       "      <td>3</td>\n",
       "      <td>978297663</td>\n",
       "      <td>Men in Black (1997)</td>\n",
       "      <td>Action|Adventure|Comedy|Sci-Fi</td>\n",
       "    </tr>\n",
       "    <tr>\n",
       "      <th>35</th>\n",
       "      <td>3</td>\n",
       "      <td>593</td>\n",
       "      <td>3</td>\n",
       "      <td>978297018</td>\n",
       "      <td>Silence of the Lambs, The (1991)</td>\n",
       "      <td>Drama|Thriller</td>\n",
       "    </tr>\n",
       "    <tr>\n",
       "      <th>21</th>\n",
       "      <td>3</td>\n",
       "      <td>3114</td>\n",
       "      <td>3</td>\n",
       "      <td>978298103</td>\n",
       "      <td>Toy Story 2 (1999)</td>\n",
       "      <td>Animation|Children's|Comedy</td>\n",
       "    </tr>\n",
       "    <tr>\n",
       "      <th>42</th>\n",
       "      <td>3</td>\n",
       "      <td>2617</td>\n",
       "      <td>2</td>\n",
       "      <td>978297837</td>\n",
       "      <td>Mummy, The (1999)</td>\n",
       "      <td>Action|Adventure|Horror|Thriller</td>\n",
       "    </tr>\n",
       "    <tr>\n",
       "      <th>1</th>\n",
       "      <td>3</td>\n",
       "      <td>1641</td>\n",
       "      <td>2</td>\n",
       "      <td>978298430</td>\n",
       "      <td>Full Monty, The (1997)</td>\n",
       "      <td>Comedy</td>\n",
       "    </tr>\n",
       "    <tr>\n",
       "      <th>18</th>\n",
       "      <td>3</td>\n",
       "      <td>3619</td>\n",
       "      <td>2</td>\n",
       "      <td>978298201</td>\n",
       "      <td>Hollywood Knights, The (1980)</td>\n",
       "      <td>Comedy</td>\n",
       "    </tr>\n",
       "    <tr>\n",
       "      <th>26</th>\n",
       "      <td>3</td>\n",
       "      <td>1265</td>\n",
       "      <td>2</td>\n",
       "      <td>978298316</td>\n",
       "      <td>Groundhog Day (1993)</td>\n",
       "      <td>Comedy|Romance</td>\n",
       "    </tr>\n",
       "    <tr>\n",
       "      <th>23</th>\n",
       "      <td>3</td>\n",
       "      <td>1261</td>\n",
       "      <td>1</td>\n",
       "      <td>978297663</td>\n",
       "      <td>Evil Dead II (Dead By Dawn) (1987)</td>\n",
       "      <td>Action|Adventure|Comedy|Horror</td>\n",
       "    </tr>\n",
       "  </tbody>\n",
       "</table>\n",
       "</div>"
      ],
      "text/plain": [
       "    user  movie  rating       time  \\\n",
       "38     3   1304       5  978298166   \n",
       "12     3   1615       5  978297710   \n",
       "31     3   2355       5  978298430   \n",
       "32     3   1197       5  978297570   \n",
       "33     3   1198       5  978297570   \n",
       "19     3    260       5  978297512   \n",
       "34     3   1378       5  978297419   \n",
       "16     3   2167       5  978297600   \n",
       "37     3   3552       5  978298459   \n",
       "14     3   1259       5  978298296   \n",
       "27     3   1266       5  978297396   \n",
       "28     3    733       5  978297757   \n",
       "10     3   1079       5  978298296   \n",
       "44     3   3671       5  978297419   \n",
       "49     3   1136       5  978298079   \n",
       "40     3   2470       4  978297777   \n",
       "41     3   3168       4  978297570   \n",
       "43     3   1961       4  978297095   \n",
       "36     3   1379       4  978297419   \n",
       "45     3   2006       4  978297757   \n",
       "46     3   2871       4  978297539   \n",
       "47     3   2115       4  978297777   \n",
       "48     3   1968       4  978297068   \n",
       "30     3    590       4  978297439   \n",
       "29     3   1196       4  978297539   \n",
       "0      3   3421       4  978298147   \n",
       "25     3    480       4  978297690   \n",
       "50     3   2081       4  978298504   \n",
       "24     3    552       4  978297837   \n",
       "22     3   1049       4  978297805   \n",
       "3      3   1394       4  978298147   \n",
       "20     3   2858       4  978297039   \n",
       "5      3    104       4  978298486   \n",
       "6      3   2735       4  978297867   \n",
       "15     3    653       4  978297757   \n",
       "13     3   1291       4  978297600   \n",
       "7      3   1210       4  978297600   \n",
       "9      3   3868       3  978298486   \n",
       "2      3    648       3  978297867   \n",
       "4      3   3534       3  978297068   \n",
       "8      3   1431       3  978297095   \n",
       "39     3   1270       3  978298231   \n",
       "11     3   2997       3  978298147   \n",
       "17     3   1580       3  978297663   \n",
       "35     3    593       3  978297018   \n",
       "21     3   3114       3  978298103   \n",
       "42     3   2617       2  978297837   \n",
       "1      3   1641       2  978298430   \n",
       "18     3   3619       2  978298201   \n",
       "26     3   1265       2  978298316   \n",
       "23     3   1261       1  978297663   \n",
       "\n",
       "                                                title  \\\n",
       "38          Butch Cassidy and the Sundance Kid (1969)   \n",
       "12                                   Edge, The (1997)   \n",
       "31                               Bug's Life, A (1998)   \n",
       "32                         Princess Bride, The (1987)   \n",
       "33                     Raiders of the Lost Ark (1981)   \n",
       "19          Star Wars: Episode IV - A New Hope (1977)   \n",
       "34                                  Young Guns (1988)   \n",
       "16                                       Blade (1998)   \n",
       "37                                  Caddyshack (1980)   \n",
       "14                                 Stand by Me (1986)   \n",
       "27                                  Unforgiven (1992)   \n",
       "28                                   Rock, The (1996)   \n",
       "10                        Fish Called Wanda, A (1988)   \n",
       "44                             Blazing Saddles (1974)   \n",
       "49             Monty Python and the Holy Grail (1974)   \n",
       "40                            Crocodile Dundee (1986)   \n",
       "41                                  Easy Rider (1969)   \n",
       "43                                    Rain Man (1988)   \n",
       "36                               Young Guns II (1990)   \n",
       "45                          Mask of Zorro, The (1998)   \n",
       "46                                 Deliverance (1972)   \n",
       "47        Indiana Jones and the Temple of Doom (1984)   \n",
       "48                         Breakfast Club, The (1985)   \n",
       "30                          Dances with Wolves (1990)   \n",
       "29  Star Wars: Episode V - The Empire Strikes Back...   \n",
       "0                                 Animal House (1978)   \n",
       "25                               Jurassic Park (1993)   \n",
       "50                         Little Mermaid, The (1989)   \n",
       "24                       Three Musketeers, The (1993)   \n",
       "22                 Ghost and the Darkness, The (1996)   \n",
       "3                              Raising Arizona (1987)   \n",
       "20                             American Beauty (1999)   \n",
       "5                                Happy Gilmore (1996)   \n",
       "6                            Golden Child, The (1986)   \n",
       "15                                 Dragonheart (1996)   \n",
       "13          Indiana Jones and the Last Crusade (1989)   \n",
       "7   Star Wars: Episode VI - Return of the Jedi (1983)   \n",
       "9   Naked Gun: From the Files of Police Squad!, Th...   \n",
       "2                          Mission: Impossible (1996)   \n",
       "4                                      28 Days (2000)   \n",
       "8                          Beverly Hills Ninja (1997)   \n",
       "39                          Back to the Future (1985)   \n",
       "11                        Being John Malkovich (1999)   \n",
       "17                                Men in Black (1997)   \n",
       "35                   Silence of the Lambs, The (1991)   \n",
       "21                                 Toy Story 2 (1999)   \n",
       "42                                  Mummy, The (1999)   \n",
       "1                              Full Monty, The (1997)   \n",
       "18                      Hollywood Knights, The (1980)   \n",
       "26                               Groundhog Day (1993)   \n",
       "23                 Evil Dead II (Dead By Dawn) (1987)   \n",
       "\n",
       "                                          genre  \n",
       "38                        Action|Comedy|Western  \n",
       "12                           Adventure|Thriller  \n",
       "31                  Animation|Children's|Comedy  \n",
       "32              Action|Adventure|Comedy|Romance  \n",
       "33                             Action|Adventure  \n",
       "19              Action|Adventure|Fantasy|Sci-Fi  \n",
       "34                        Action|Comedy|Western  \n",
       "16                      Action|Adventure|Horror  \n",
       "37                                       Comedy  \n",
       "14                       Adventure|Comedy|Drama  \n",
       "27                                      Western  \n",
       "28                    Action|Adventure|Thriller  \n",
       "10                                       Comedy  \n",
       "44                               Comedy|Western  \n",
       "49                                       Comedy  \n",
       "40                             Adventure|Comedy  \n",
       "41                              Adventure|Drama  \n",
       "43                                        Drama  \n",
       "36                        Action|Comedy|Western  \n",
       "45                     Action|Adventure|Romance  \n",
       "46                           Adventure|Thriller  \n",
       "47                             Action|Adventure  \n",
       "48                                 Comedy|Drama  \n",
       "30                      Adventure|Drama|Western  \n",
       "29            Action|Adventure|Drama|Sci-Fi|War  \n",
       "0                                        Comedy  \n",
       "25                      Action|Adventure|Sci-Fi  \n",
       "50  Animation|Children's|Comedy|Musical|Romance  \n",
       "24                      Action|Adventure|Comedy  \n",
       "22                             Action|Adventure  \n",
       "3                                        Comedy  \n",
       "20                                 Comedy|Drama  \n",
       "5                                        Comedy  \n",
       "6                       Action|Adventure|Comedy  \n",
       "15                     Action|Adventure|Fantasy  \n",
       "13                             Action|Adventure  \n",
       "7           Action|Adventure|Romance|Sci-Fi|War  \n",
       "9                                        Comedy  \n",
       "2                      Action|Adventure|Mystery  \n",
       "4                                        Comedy  \n",
       "8                                 Action|Comedy  \n",
       "39                                Comedy|Sci-Fi  \n",
       "11                                       Comedy  \n",
       "17               Action|Adventure|Comedy|Sci-Fi  \n",
       "35                               Drama|Thriller  \n",
       "21                  Animation|Children's|Comedy  \n",
       "42             Action|Adventure|Horror|Thriller  \n",
       "1                                        Comedy  \n",
       "18                                       Comedy  \n",
       "26                               Comedy|Romance  \n",
       "23               Action|Adventure|Comedy|Horror  "
      ]
     },
     "execution_count": 89,
     "metadata": {},
     "output_type": "execute_result"
    }
   ],
   "source": [
    "already_rated"
   ]
  },
  {
   "cell_type": "code",
   "execution_count": 90,
   "metadata": {},
   "outputs": [
    {
     "data": {
      "text/html": [
       "<div>\n",
       "<style>\n",
       "    .dataframe thead tr:only-child th {\n",
       "        text-align: right;\n",
       "    }\n",
       "\n",
       "    .dataframe thead th {\n",
       "        text-align: left;\n",
       "    }\n",
       "\n",
       "    .dataframe tbody tr th {\n",
       "        vertical-align: top;\n",
       "    }\n",
       "</style>\n",
       "<table border=\"1\" class=\"dataframe\">\n",
       "  <thead>\n",
       "    <tr style=\"text-align: right;\">\n",
       "      <th></th>\n",
       "      <th>movie</th>\n",
       "      <th>title</th>\n",
       "      <th>genre</th>\n",
       "    </tr>\n",
       "  </thead>\n",
       "  <tbody>\n",
       "    <tr>\n",
       "      <th>2807</th>\n",
       "      <td>2918</td>\n",
       "      <td>Ferris Bueller's Day Off (1986)</td>\n",
       "      <td>Comedy</td>\n",
       "    </tr>\n",
       "    <tr>\n",
       "      <th>2682</th>\n",
       "      <td>2791</td>\n",
       "      <td>Airplane! (1980)</td>\n",
       "      <td>Comedy</td>\n",
       "    </tr>\n",
       "    <tr>\n",
       "      <th>2520</th>\n",
       "      <td>2628</td>\n",
       "      <td>Star Wars: Episode I - The Phantom Menace (1999)</td>\n",
       "      <td>Action|Adventure|Fantasy|Sci-Fi</td>\n",
       "    </tr>\n",
       "    <tr>\n",
       "      <th>898</th>\n",
       "      <td>919</td>\n",
       "      <td>Wizard of Oz, The (1939)</td>\n",
       "      <td>Adventure|Children's|Drama|Musical</td>\n",
       "    </tr>\n",
       "    <tr>\n",
       "      <th>0</th>\n",
       "      <td>1</td>\n",
       "      <td>Toy Story (1995)</td>\n",
       "      <td>Animation|Children's|Comedy</td>\n",
       "    </tr>\n",
       "    <tr>\n",
       "      <th>2695</th>\n",
       "      <td>2804</td>\n",
       "      <td>Christmas Story, A (1983)</td>\n",
       "      <td>Comedy|Drama</td>\n",
       "    </tr>\n",
       "    <tr>\n",
       "      <th>107</th>\n",
       "      <td>110</td>\n",
       "      <td>Braveheart (1995)</td>\n",
       "      <td>Action|Drama|War</td>\n",
       "    </tr>\n",
       "    <tr>\n",
       "      <th>2608</th>\n",
       "      <td>2716</td>\n",
       "      <td>Ghostbusters (1984)</td>\n",
       "      <td>Comedy|Horror</td>\n",
       "    </tr>\n",
       "    <tr>\n",
       "      <th>1264</th>\n",
       "      <td>1307</td>\n",
       "      <td>When Harry Met Sally... (1989)</td>\n",
       "      <td>Comedy|Romance</td>\n",
       "    </tr>\n",
       "    <tr>\n",
       "      <th>2290</th>\n",
       "      <td>2396</td>\n",
       "      <td>Shakespeare in Love (1998)</td>\n",
       "      <td>Comedy|Romance</td>\n",
       "    </tr>\n",
       "  </tbody>\n",
       "</table>\n",
       "</div>"
      ],
      "text/plain": [
       "      movie                                             title  \\\n",
       "2807   2918                   Ferris Bueller's Day Off (1986)   \n",
       "2682   2791                                  Airplane! (1980)   \n",
       "2520   2628  Star Wars: Episode I - The Phantom Menace (1999)   \n",
       "898     919                          Wizard of Oz, The (1939)   \n",
       "0         1                                  Toy Story (1995)   \n",
       "2695   2804                         Christmas Story, A (1983)   \n",
       "107     110                                 Braveheart (1995)   \n",
       "2608   2716                               Ghostbusters (1984)   \n",
       "1264   1307                    When Harry Met Sally... (1989)   \n",
       "2290   2396                        Shakespeare in Love (1998)   \n",
       "\n",
       "                                   genre  \n",
       "2807                              Comedy  \n",
       "2682                              Comedy  \n",
       "2520     Action|Adventure|Fantasy|Sci-Fi  \n",
       "898   Adventure|Children's|Drama|Musical  \n",
       "0            Animation|Children's|Comedy  \n",
       "2695                        Comedy|Drama  \n",
       "107                     Action|Drama|War  \n",
       "2608                       Comedy|Horror  \n",
       "1264                      Comedy|Romance  \n",
       "2290                      Comedy|Romance  "
      ]
     },
     "execution_count": 90,
     "metadata": {},
     "output_type": "execute_result"
    }
   ],
   "source": [
    "predictions"
   ]
  },
  {
   "cell_type": "markdown",
   "metadata": {},
   "source": [
    "We see that the results of our model-based CF recommender system are reasonably good."
   ]
  }
 ],
 "metadata": {
  "kernelspec": {
   "display_name": "Python 3",
   "language": "python",
   "name": "python3"
  },
  "language_info": {
   "codemirror_mode": {
    "name": "ipython",
    "version": 3
   },
   "file_extension": ".py",
   "mimetype": "text/x-python",
   "name": "python",
   "nbconvert_exporter": "python",
   "pygments_lexer": "ipython3",
   "version": "3.6.2"
  }
 },
 "nbformat": 4,
 "nbformat_minor": 2
}
